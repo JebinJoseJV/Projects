{
 "cells": [
  {
   "cell_type": "code",
   "execution_count": null,
   "metadata": {
    "executionInfo": {
     "elapsed": 700,
     "status": "ok",
     "timestamp": 1733173445712,
     "user": {
      "displayName": "JEBIN JOSE",
      "userId": "15477389810463248078"
     },
     "user_tz": -330
    },
    "id": "ErD9hK-dKycY"
   },
   "outputs": [],
   "source": [
    "from sklearn.preprocessing import LabelEncoder\n",
    "import numpy as np\n",
    "import pandas as pd\n",
    "import pickle\n",
    "import nltk\n",
    "import re\n",
    "from nltk.stem import PorterStemmer\n",
    "\n",
    "import seaborn as sns\n",
    "import matplotlib.pyplot as plt"
   ]
  },
  {
   "cell_type": "code",
   "execution_count": 6,
   "metadata": {
    "executionInfo": {
     "elapsed": 352,
     "status": "ok",
     "timestamp": 1733173502327,
     "user": {
      "displayName": "JEBIN JOSE",
      "userId": "15477389810463248078"
     },
     "user_tz": -330
    },
    "id": "aseIzliALPUa"
   },
   "outputs": [],
   "source": [
    "df = pd.read_csv(\"train.txt\", header=None, sep=\";\", names=[\"Comment\", \"Emotion\"], encoding=\"utf-8\")\n",
    "\n",
    "df['length'] = [len(x) for x in df['Comment']]"
   ]
  },
  {
   "cell_type": "code",
   "execution_count": 7,
   "metadata": {
    "colab": {
     "base_uri": "https://localhost:8080/",
     "height": 206
    },
    "executionInfo": {
     "elapsed": 353,
     "status": "ok",
     "timestamp": 1733173506931,
     "user": {
      "displayName": "JEBIN JOSE",
      "userId": "15477389810463248078"
     },
     "user_tz": -330
    },
    "id": "dOdyUI98MGpw",
    "outputId": "aaec303e-e223-485a-9077-ddb7fcd825db"
   },
   "outputs": [
    {
     "data": {
      "text/html": [
       "<div>\n",
       "<style scoped>\n",
       "    .dataframe tbody tr th:only-of-type {\n",
       "        vertical-align: middle;\n",
       "    }\n",
       "\n",
       "    .dataframe tbody tr th {\n",
       "        vertical-align: top;\n",
       "    }\n",
       "\n",
       "    .dataframe thead th {\n",
       "        text-align: right;\n",
       "    }\n",
       "</style>\n",
       "<table border=\"1\" class=\"dataframe\">\n",
       "  <thead>\n",
       "    <tr style=\"text-align: right;\">\n",
       "      <th></th>\n",
       "      <th>Comment</th>\n",
       "      <th>Emotion</th>\n",
       "      <th>length</th>\n",
       "    </tr>\n",
       "  </thead>\n",
       "  <tbody>\n",
       "    <tr>\n",
       "      <th>0</th>\n",
       "      <td>i didnt feel humiliated</td>\n",
       "      <td>sadness</td>\n",
       "      <td>23</td>\n",
       "    </tr>\n",
       "    <tr>\n",
       "      <th>1</th>\n",
       "      <td>i can go from feeling so hopeless to so damned...</td>\n",
       "      <td>sadness</td>\n",
       "      <td>108</td>\n",
       "    </tr>\n",
       "    <tr>\n",
       "      <th>2</th>\n",
       "      <td>im grabbing a minute to post i feel greedy wrong</td>\n",
       "      <td>anger</td>\n",
       "      <td>48</td>\n",
       "    </tr>\n",
       "    <tr>\n",
       "      <th>3</th>\n",
       "      <td>i am ever feeling nostalgic about the fireplac...</td>\n",
       "      <td>love</td>\n",
       "      <td>92</td>\n",
       "    </tr>\n",
       "    <tr>\n",
       "      <th>4</th>\n",
       "      <td>i am feeling grouchy</td>\n",
       "      <td>anger</td>\n",
       "      <td>20</td>\n",
       "    </tr>\n",
       "  </tbody>\n",
       "</table>\n",
       "</div>"
      ],
      "text/plain": [
       "                                             Comment  Emotion  length\n",
       "0                            i didnt feel humiliated  sadness      23\n",
       "1  i can go from feeling so hopeless to so damned...  sadness     108\n",
       "2   im grabbing a minute to post i feel greedy wrong    anger      48\n",
       "3  i am ever feeling nostalgic about the fireplac...     love      92\n",
       "4                               i am feeling grouchy    anger      20"
      ]
     },
     "execution_count": 7,
     "metadata": {},
     "output_type": "execute_result"
    }
   ],
   "source": [
    "df.head()"
   ]
  },
  {
   "cell_type": "code",
   "execution_count": 8,
   "metadata": {
    "colab": {
     "base_uri": "https://localhost:8080/"
    },
    "executionInfo": {
     "elapsed": 337,
     "status": "ok",
     "timestamp": 1733173529379,
     "user": {
      "displayName": "JEBIN JOSE",
      "userId": "15477389810463248078"
     },
     "user_tz": -330
    },
    "id": "khx64DBBMJ0O",
    "outputId": "8655189e-1a13-45bf-ada3-61071dfed993"
   },
   "outputs": [
    {
     "data": {
      "text/plain": [
       "(16000, 3)"
      ]
     },
     "execution_count": 8,
     "metadata": {},
     "output_type": "execute_result"
    }
   ],
   "source": [
    "df.shape"
   ]
  },
  {
   "cell_type": "code",
   "execution_count": 9,
   "metadata": {
    "colab": {
     "base_uri": "https://localhost:8080/",
     "height": 178
    },
    "executionInfo": {
     "elapsed": 357,
     "status": "ok",
     "timestamp": 1733173533822,
     "user": {
      "displayName": "JEBIN JOSE",
      "userId": "15477389810463248078"
     },
     "user_tz": -330
    },
    "id": "BiDyaYRDMRr5",
    "outputId": "b7b9e419-7082-48d4-c0d8-b7c8a9335e70"
   },
   "outputs": [
    {
     "data": {
      "text/plain": [
       "Comment    0\n",
       "Emotion    0\n",
       "length     0\n",
       "dtype: int64"
      ]
     },
     "execution_count": 9,
     "metadata": {},
     "output_type": "execute_result"
    }
   ],
   "source": [
    "df.isnull().sum()"
   ]
  },
  {
   "cell_type": "code",
   "execution_count": 10,
   "metadata": {
    "colab": {
     "base_uri": "https://localhost:8080/",
     "height": 449
    },
    "executionInfo": {
     "elapsed": 425,
     "status": "ok",
     "timestamp": 1733173557990,
     "user": {
      "displayName": "JEBIN JOSE",
      "userId": "15477389810463248078"
     },
     "user_tz": -330
    },
    "id": "_RyqUVZkMVeR",
    "outputId": "9756544e-7726-4eaf-8d0e-2d1c170869d6"
   },
   "outputs": [
    {
     "data": {
      "image/png": "[encoded data removed]",
      "text/plain": [
       "<Figure size 432x288 with 1 Axes>"
      ]
     },
     "metadata": {
      "needs_background": "light"
     },
     "output_type": "display_data"
    }
   ],
   "source": [
    "sns.countplot(x = df['Emotion'])\n",
    "plt.show()"
   ]
  },
  {
   "cell_type": "code",
   "execution_count": 11,
   "metadata": {
    "executionInfo": {
     "elapsed": 356,
     "status": "ok",
     "timestamp": 1733173601612,
     "user": {
      "displayName": "JEBIN JOSE",
      "userId": "15477389810463248078"
     },
     "user_tz": -330
    },
    "id": "JmKayoNRMbQq"
   },
   "outputs": [],
   "source": [
    "lb = LabelEncoder()\n",
    "df['Emotion'] = lb.fit_transform(df['Emotion'])"
   ]
  },
  {
   "cell_type": "code",
   "execution_count": 12,
   "metadata": {
    "colab": {
     "base_uri": "https://localhost:8080/",
     "height": 206
    },
    "executionInfo": {
     "elapsed": 563,
     "status": "ok",
     "timestamp": 1733173608467,
     "user": {
      "displayName": "JEBIN JOSE",
      "userId": "15477389810463248078"
     },
     "user_tz": -330
    },
    "id": "HQfw_CZrMmF1",
    "outputId": "701e38da-95fa-4a07-9519-10eb1623a0b8"
   },
   "outputs": [
    {
     "data": {
      "text/html": [
       "<div>\n",
       "<style scoped>\n",
       "    .dataframe tbody tr th:only-of-type {\n",
       "        vertical-align: middle;\n",
       "    }\n",
       "\n",
       "    .dataframe tbody tr th {\n",
       "        vertical-align: top;\n",
       "    }\n",
       "\n",
       "    .dataframe thead th {\n",
       "        text-align: right;\n",
       "    }\n",
       "</style>\n",
       "<table border=\"1\" class=\"dataframe\">\n",
       "  <thead>\n",
       "    <tr style=\"text-align: right;\">\n",
       "      <th></th>\n",
       "      <th>Comment</th>\n",
       "      <th>Emotion</th>\n",
       "      <th>length</th>\n",
       "    </tr>\n",
       "  </thead>\n",
       "  <tbody>\n",
       "    <tr>\n",
       "      <th>0</th>\n",
       "      <td>i didnt feel humiliated</td>\n",
       "      <td>4</td>\n",
       "      <td>23</td>\n",
       "    </tr>\n",
       "    <tr>\n",
       "      <th>1</th>\n",
       "      <td>i can go from feeling so hopeless to so damned...</td>\n",
       "      <td>4</td>\n",
       "      <td>108</td>\n",
       "    </tr>\n",
       "    <tr>\n",
       "      <th>2</th>\n",
       "      <td>im grabbing a minute to post i feel greedy wrong</td>\n",
       "      <td>0</td>\n",
       "      <td>48</td>\n",
       "    </tr>\n",
       "    <tr>\n",
       "      <th>3</th>\n",
       "      <td>i am ever feeling nostalgic about the fireplac...</td>\n",
       "      <td>3</td>\n",
       "      <td>92</td>\n",
       "    </tr>\n",
       "    <tr>\n",
       "      <th>4</th>\n",
       "      <td>i am feeling grouchy</td>\n",
       "      <td>0</td>\n",
       "      <td>20</td>\n",
       "    </tr>\n",
       "  </tbody>\n",
       "</table>\n",
       "</div>"
      ],
      "text/plain": [
       "                                             Comment  Emotion  length\n",
       "0                            i didnt feel humiliated        4      23\n",
       "1  i can go from feeling so hopeless to so damned...        4     108\n",
       "2   im grabbing a minute to post i feel greedy wrong        0      48\n",
       "3  i am ever feeling nostalgic about the fireplac...        3      92\n",
       "4                               i am feeling grouchy        0      20"
      ]
     },
     "execution_count": 12,
     "metadata": {},
     "output_type": "execute_result"
    }
   ],
   "source": [
    "df.head()"
   ]
  },
  {
   "cell_type": "code",
   "execution_count": 13,
   "metadata": {
    "colab": {
     "base_uri": "https://localhost:8080/"
    },
    "executionInfo": {
     "elapsed": 363,
     "status": "ok",
     "timestamp": 1733173787999,
     "user": {
      "displayName": "JEBIN JOSE",
      "userId": "15477389810463248078"
     },
     "user_tz": -330
    },
    "id": "pdNPWF_cNS_F",
    "outputId": "81df4198-b988-4be4-f772-155009db6797"
   },
   "outputs": [
    {
     "name": "stderr",
     "output_type": "stream",
     "text": [
      "[nltk_data] Downloading package stopwords to\n",
      "[nltk_data]     C:\\Users\\hp\\AppData\\Roaming\\nltk_data...\n",
      "[nltk_data]   Package stopwords is already up-to-date!\n"
     ]
    },
    {
     "data": {
      "text/plain": [
       "True"
      ]
     },
     "execution_count": 13,
     "metadata": {},
     "output_type": "execute_result"
    }
   ],
   "source": [
    "nltk.download('stopwords')"
   ]
  },
  {
   "cell_type": "code",
   "execution_count": 14,
   "metadata": {
    "executionInfo": {
     "elapsed": 1462,
     "status": "ok",
     "timestamp": 1733173830334,
     "user": {
      "displayName": "JEBIN JOSE",
      "userId": "15477389810463248078"
     },
     "user_tz": -330
    },
    "id": "o0dWWir6MnuH"
   },
   "outputs": [],
   "source": [
    "from sklearn.model_selection import train_test_split\n",
    "from sklearn.feature_extraction.text import CountVectorizer, TfidfVectorizer\n",
    "from sklearn.naive_bayes import MultinomialNB\n",
    "from sklearn.linear_model import LogisticRegression\n",
    "from sklearn.ensemble import RandomForestClassifier\n",
    "from sklearn.svm import SVC\n",
    "from sklearn.metrics import accuracy_score, classification_report"
   ]
  },
  {
   "cell_type": "code",
   "execution_count": 15,
   "metadata": {
    "executionInfo": {
     "elapsed": 5290,
     "status": "ok",
     "timestamp": 1733173848661,
     "user": {
      "displayName": "JEBIN JOSE",
      "userId": "15477389810463248078"
     },
     "user_tz": -330
    },
    "id": "Wo0RqZm5NF0V"
   },
   "outputs": [],
   "source": [
    "stopwords = set(nltk.corpus.stopwords.words('english'))\n",
    "def clean_text(text):\n",
    "    stemmer = PorterStemmer()\n",
    "    text = re.sub(\"[^a-zA-Z]\", \" \", text)\n",
    "    text = text.lower()\n",
    "    text = text.split()\n",
    "    text = [stemmer.stem(word) for word in text if word not in stopwords]\n",
    "    return \" \".join(text)\n",
    "\n",
    "df['cleaned_comment'] = df['Comment'].apply(clean_text)"
   ]
  },
  {
   "cell_type": "code",
   "execution_count": 16,
   "metadata": {
    "executionInfo": {
     "elapsed": 363,
     "status": "ok",
     "timestamp": 1733173867299,
     "user": {
      "displayName": "JEBIN JOSE",
      "userId": "15477389810463248078"
     },
     "user_tz": -330
    },
    "id": "t42DSHlLNhMq"
   },
   "outputs": [],
   "source": [
    "X_train, X_test, y_train, y_test = train_test_split(df['cleaned_comment'],df['Emotion'],test_size=0.2,random_state=42)"
   ]
  },
  {
   "cell_type": "code",
   "execution_count": 17,
   "metadata": {
    "executionInfo": {
     "elapsed": 1549,
     "status": "ok",
     "timestamp": 1733173878457,
     "user": {
      "displayName": "JEBIN JOSE",
      "userId": "15477389810463248078"
     },
     "user_tz": -330
    },
    "id": "FIV3lmcjNm9q"
   },
   "outputs": [],
   "source": [
    "tfidf_vectorizer = TfidfVectorizer()\n",
    "X_train_tfidf = tfidf_vectorizer.fit_transform(X_train)\n",
    "X_test_tfidf = tfidf_vectorizer.transform(X_test)"
   ]
  },
  {
   "cell_type": "code",
   "execution_count": 18,
   "metadata": {
    "colab": {
     "base_uri": "https://localhost:8080/"
    },
    "executionInfo": {
     "elapsed": 86615,
     "status": "ok",
     "timestamp": 1733173970873,
     "user": {
      "displayName": "JEBIN JOSE",
      "userId": "15477389810463248078"
     },
     "user_tz": -330
    },
    "id": "2aJMoUAONpPW",
    "outputId": "4864db8f-8805-40a8-9e9b-9417be33b046"
   },
   "outputs": [
    {
     "name": "stdout",
     "output_type": "stream",
     "text": [
      "\n",
      "===== Multinomial Naive Bayes =====\n",
      "\n",
      "Accuracy using TF-IDF: 0.655\n",
      "Classification Report:\n",
      "              precision    recall  f1-score   support\n",
      "\n",
      "           0       0.93      0.31      0.46       427\n",
      "           1       0.91      0.24      0.38       397\n",
      "           2       0.58      0.98      0.73      1021\n",
      "           3       1.00      0.03      0.06       296\n",
      "           4       0.70      0.91      0.79       946\n",
      "           5       1.00      0.01      0.02       113\n",
      "\n",
      "    accuracy                           0.66      3200\n",
      "   macro avg       0.85      0.41      0.41      3200\n",
      "weighted avg       0.76      0.66      0.58      3200\n",
      "\n",
      "\n",
      "===== Logistic Regression =====\n",
      "\n",
      "Accuracy using TF-IDF: 0.829375\n",
      "Classification Report:\n",
      "              precision    recall  f1-score   support\n",
      "\n",
      "           0       0.88      0.79      0.83       427\n",
      "           1       0.84      0.73      0.78       397\n",
      "           2       0.78      0.94      0.85      1021\n",
      "           3       0.80      0.49      0.61       296\n",
      "           4       0.88      0.92      0.90       946\n",
      "           5       0.77      0.45      0.57       113\n",
      "\n",
      "    accuracy                           0.83      3200\n",
      "   macro avg       0.82      0.72      0.76      3200\n",
      "weighted avg       0.83      0.83      0.82      3200\n",
      "\n",
      "\n",
      "===== Random Forest =====\n",
      "\n",
      "Accuracy using TF-IDF: 0.849375\n",
      "Classification Report:\n",
      "              precision    recall  f1-score   support\n",
      "\n",
      "           0       0.81      0.86      0.83       427\n",
      "           1       0.82      0.84      0.83       397\n",
      "           2       0.84      0.90      0.87      1021\n",
      "           3       0.83      0.63      0.71       296\n",
      "           4       0.91      0.88      0.90       946\n",
      "           5       0.74      0.65      0.69       113\n",
      "\n",
      "    accuracy                           0.85      3200\n",
      "   macro avg       0.82      0.79      0.81      3200\n",
      "weighted avg       0.85      0.85      0.85      3200\n",
      "\n",
      "\n",
      "===== Support Vector Machine =====\n",
      "\n",
      "Accuracy using TF-IDF: 0.8190625\n",
      "Classification Report:\n",
      "              precision    recall  f1-score   support\n",
      "\n",
      "           0       0.86      0.79      0.83       427\n",
      "           1       0.84      0.71      0.77       397\n",
      "           2       0.76      0.93      0.84      1021\n",
      "           3       0.81      0.45      0.58       296\n",
      "           4       0.88      0.91      0.89       946\n",
      "           5       0.79      0.47      0.59       113\n",
      "\n",
      "    accuracy                           0.82      3200\n",
      "   macro avg       0.82      0.71      0.75      3200\n",
      "weighted avg       0.82      0.82      0.81      3200\n",
      "\n"
     ]
    }
   ],
   "source": [
    "classifiers = {\n",
    "    \"Multinomial Naive Bayes\": MultinomialNB(),\n",
    "    \"Logistic Regression\": LogisticRegression(),\n",
    "    \"Random Forest\": RandomForestClassifier(),\n",
    "    \"Support Vector Machine\": SVC(),\n",
    "}\n",
    "\n",
    "for name, clf in classifiers.items():\n",
    "    print(f\"\\n===== {name} =====\")\n",
    "    clf.fit(X_train_tfidf, y_train)\n",
    "    y_pred_tfidf = clf.predict(X_test_tfidf)\n",
    "    accuracy_tfidf = accuracy_score(y_test, y_pred_tfidf)\n",
    "    print(f\"\\nAccuracy using TF-IDF: {accuracy_tfidf}\")\n",
    "    print(\"Classification Report:\")\n",
    "    print(classification_report(y_test, y_pred_tfidf))"
   ]
  },
  {
   "cell_type": "code",
   "execution_count": 19,
   "metadata": {
    "executionInfo": {
     "elapsed": 8103,
     "status": "ok",
     "timestamp": 1733173985319,
     "user": {
      "displayName": "JEBIN JOSE",
      "userId": "15477389810463248078"
     },
     "user_tz": -330
    },
    "id": "jXE4gaunNrIS"
   },
   "outputs": [],
   "source": [
    "lg = LogisticRegression()\n",
    "lg.fit(X_train_tfidf, y_train)\n",
    "lg_y_pred = lg.predict(X_test_tfidf)"
   ]
  },
  {
   "cell_type": "code",
   "execution_count": null,
   "metadata": {
    "executionInfo": {
     "elapsed": 360,
     "status": "ok",
     "timestamp": 1733174126181,
     "user": {
      "displayName": "JEBIN JOSE",
      "userId": "15477389810463248078"
     },
     "user_tz": -330
    },
    "id": "IhaA04xGN6ur"
   },
   "outputs": [],
   "source": [
    "def predict_emotion(input_text):\n",
    "    cleaned_text = clean_text(input_text)\n",
    "    input_vectorized = tfidf_vectorizer.transform([cleaned_text])\n",
    "\n",
    "    \n",
    "    predicted_label = lg.predict(input_vectorized)[0]\n",
    "    predicted_emotion = lb.inverse_transform([predicted_label])[0]\n",
    "    label =  np.max(lg.predict(input_vectorized))\n",
    "\n",
    "    return predicted_emotion,label"
   ]
  },
  {
   "cell_type": "code",
   "execution_count": 21,
   "metadata": {
    "executionInfo": {
     "elapsed": 342,
     "status": "ok",
     "timestamp": 1733174128342,
     "user": {
      "displayName": "JEBIN JOSE",
      "userId": "15477389810463248078"
     },
     "user_tz": -330
    },
    "id": "zzKXh6nfOZCC"
   },
   "outputs": [],
   "source": [
    "sentence = ' Im very sad'"
   ]
  },
  {
   "cell_type": "code",
   "execution_count": 22,
   "metadata": {
    "colab": {
     "base_uri": "https://localhost:8080/"
    },
    "executionInfo": {
     "elapsed": 359,
     "status": "ok",
     "timestamp": 1733174130189,
     "user": {
      "displayName": "JEBIN JOSE",
      "userId": "15477389810463248078"
     },
     "user_tz": -330
    },
    "id": "xeqa4EVCOc21",
    "outputId": "044c2c64-f378-4cc4-be03-b6409204032e"
   },
   "outputs": [
    {
     "name": "stdout",
     "output_type": "stream",
     "text": [
      "sadness\n",
      "4\n"
     ]
    }
   ],
   "source": [
    "pred_emotion,label = predict_emotion(sentence)\n",
    "print(pred_emotion)\n",
    "print(label)"
   ]
  },
  {
   "cell_type": "code",
   "execution_count": 23,
   "metadata": {
    "executionInfo": {
     "elapsed": 344,
     "status": "ok",
     "timestamp": 1733174277205,
     "user": {
      "displayName": "JEBIN JOSE",
      "userId": "15477389810463248078"
     },
     "user_tz": -330
    },
    "id": "Q7dQvSomOjv2"
   },
   "outputs": [],
   "source": [
    "import pickle\n",
    "pickle.dump(lg,open(\"logistic_regresion.pkl\",'wb'))\n",
    "pickle.dump(lb,open(\"label_encoder.pkl\",'wb'))\n",
    "pickle.dump(tfidf_vectorizer,open(\"tfidf_vectorizer.pkl\",'wb'))"
   ]
  },
  {
   "cell_type": "code",
   "execution_count": null,
   "metadata": {},
   "outputs": [],
   "source": []
  }
 ],
 "metadata": {
  "accelerator": "TPU",
  "colab": {
   "authorship_tag": "ABX9TyMP4ZVOPGN01Bkn77tqSG34",
   "gpuType": "V28",
   "provenance": []
  },
  "kernelspec": {
   "display_name": "gc",
   "language": "python",
   "name": "python3"
  },
  "language_info": {
   "codemirror_mode": {
    "name": "ipython",
    "version": 3
   },
   "file_extension": ".py",
   "mimetype": "text/x-python",
   "name": "python",
   "nbconvert_exporter": "python",
   "pygments_lexer": "ipython3",
   "version": "3.10.12"
  }
 },
 "nbformat": 4,
 "nbformat_minor": 0
}
