{
 "cells": [
  {
   "cell_type": "code",
   "execution_count": 1,
   "metadata": {
    "executionInfo": {
     "elapsed": 6602,
     "status": "ok",
     "timestamp": 1733144911223,
     "user": {
      "displayName": "JEBIN JOSE",
      "userId": "15477389810463248078"
     },
     "user_tz": -330
    },
    "id": "WIMSGYBteuSr"
   },
   "outputs": [],
   "source": [
    "import numpy as np\n",
    "import pandas as pd\n",
    "import matplotlib.pyplot as plt\n",
    "import seaborn as sns"
   ]
  },
  {
   "cell_type": "code",
   "execution_count": 2,
   "metadata": {
    "executionInfo": {
     "elapsed": 378,
     "status": "ok",
     "timestamp": 1733146077301,
     "user": {
      "displayName": "JEBIN JOSE",
      "userId": "15477389810463248078"
     },
     "user_tz": -330
    },
    "id": "IcKc2dXCfH74"
   },
   "outputs": [],
   "source": [
    "df = pd.read_csv('UpdatedResumeDataSet.csv')"
   ]
  },
  {
   "cell_type": "code",
   "execution_count": 3,
   "metadata": {
    "colab": {
     "base_uri": "https://localhost:8080/",
     "height": 206
    },
    "executionInfo": {
     "elapsed": 8,
     "status": "ok",
     "timestamp": 1733146078587,
     "user": {
      "displayName": "JEBIN JOSE",
      "userId": "15477389810463248078"
     },
     "user_tz": -330
    },
    "id": "k7z8Wku8fQjb",
    "outputId": "e3a5f32a-a7d1-41fc-90b3-f7d7bccf7170"
   },
   "outputs": [
    {
     "data": {
      "text/html": [
       "<div>\n",
       "<style scoped>\n",
       "    .dataframe tbody tr th:only-of-type {\n",
       "        vertical-align: middle;\n",
       "    }\n",
       "\n",
       "    .dataframe tbody tr th {\n",
       "        vertical-align: top;\n",
       "    }\n",
       "\n",
       "    .dataframe thead th {\n",
       "        text-align: right;\n",
       "    }\n",
       "</style>\n",
       "<table border=\"1\" class=\"dataframe\">\n",
       "  <thead>\n",
       "    <tr style=\"text-align: right;\">\n",
       "      <th></th>\n",
       "      <th>Category</th>\n",
       "      <th>Resume</th>\n",
       "    </tr>\n",
       "  </thead>\n",
       "  <tbody>\n",
       "    <tr>\n",
       "      <th>0</th>\n",
       "      <td>Data Science</td>\n",
       "      <td>Skills * Programming Languages: Python (pandas...</td>\n",
       "    </tr>\n",
       "    <tr>\n",
       "      <th>1</th>\n",
       "      <td>Data Science</td>\n",
       "      <td>Education Details \\r\\nMay 2013 to May 2017 B.E...</td>\n",
       "    </tr>\n",
       "    <tr>\n",
       "      <th>2</th>\n",
       "      <td>Data Science</td>\n",
       "      <td>Areas of Interest Deep Learning, Control Syste...</td>\n",
       "    </tr>\n",
       "    <tr>\n",
       "      <th>3</th>\n",
       "      <td>Data Science</td>\n",
       "      <td>Skills â¢ R â¢ Python â¢ SAP HANA â¢ Table...</td>\n",
       "    </tr>\n",
       "    <tr>\n",
       "      <th>4</th>\n",
       "      <td>Data Science</td>\n",
       "      <td>Education Details \\r\\n MCA   YMCAUST,  Faridab...</td>\n",
       "    </tr>\n",
       "  </tbody>\n",
       "</table>\n",
       "</div>"
      ],
      "text/plain": [
       "       Category                                             Resume\n",
       "0  Data Science  Skills * Programming Languages: Python (pandas...\n",
       "1  Data Science  Education Details \\r\\nMay 2013 to May 2017 B.E...\n",
       "2  Data Science  Areas of Interest Deep Learning, Control Syste...\n",
       "3  Data Science  Skills â¢ R â¢ Python â¢ SAP HANA â¢ Table...\n",
       "4  Data Science  Education Details \\r\\n MCA   YMCAUST,  Faridab..."
      ]
     },
     "execution_count": 3,
     "metadata": {},
     "output_type": "execute_result"
    }
   ],
   "source": [
    "df.head()"
   ]
  },
  {
   "cell_type": "code",
   "execution_count": 4,
   "metadata": {
    "colab": {
     "base_uri": "https://localhost:8080/"
    },
    "executionInfo": {
     "elapsed": 483,
     "status": "ok",
     "timestamp": 1733146080876,
     "user": {
      "displayName": "JEBIN JOSE",
      "userId": "15477389810463248078"
     },
     "user_tz": -330
    },
    "id": "ZvgUHKjTfSQ6",
    "outputId": "18ae5952-2491-4f45-d183-b9fdaaed3b1d"
   },
   "outputs": [
    {
     "data": {
      "text/plain": [
       "(962, 2)"
      ]
     },
     "execution_count": 4,
     "metadata": {},
     "output_type": "execute_result"
    }
   ],
   "source": [
    "df.shape"
   ]
  },
  {
   "cell_type": "code",
   "execution_count": 5,
   "metadata": {
    "colab": {
     "base_uri": "https://localhost:8080/",
     "height": 899
    },
    "executionInfo": {
     "elapsed": 15,
     "status": "ok",
     "timestamp": 1733146082368,
     "user": {
      "displayName": "JEBIN JOSE",
      "userId": "15477389810463248078"
     },
     "user_tz": -330
    },
    "id": "MRTgM42QfUtT",
    "outputId": "be90580f-7f1f-49eb-948e-35210bca0d24"
   },
   "outputs": [
    {
     "data": {
      "text/plain": [
       "Category\n",
       "Java Developer               84\n",
       "Testing                      70\n",
       "DevOps Engineer              55\n",
       "Python Developer             48\n",
       "Web Designing                45\n",
       "HR                           44\n",
       "Hadoop                       42\n",
       "Blockchain                   40\n",
       "ETL Developer                40\n",
       "Operations Manager           40\n",
       "Data Science                 40\n",
       "Sales                        40\n",
       "Mechanical Engineer          40\n",
       "Arts                         36\n",
       "Database                     33\n",
       "Electrical Engineering       30\n",
       "Health and fitness           30\n",
       "PMO                          30\n",
       "Business Analyst             28\n",
       "DotNet Developer             28\n",
       "Automation Testing           26\n",
       "Network Security Engineer    25\n",
       "SAP Developer                24\n",
       "Civil Engineer               24\n",
       "Advocate                     20\n",
       "Name: count, dtype: int64"
      ]
     },
     "execution_count": 5,
     "metadata": {},
     "output_type": "execute_result"
    }
   ],
   "source": [
    "df['Category'].value_counts()"
   ]
  },
  {
   "cell_type": "code",
   "execution_count": 6,
   "metadata": {
    "colab": {
     "base_uri": "https://localhost:8080/",
     "height": 466
    },
    "executionInfo": {
     "elapsed": 1092,
     "status": "ok",
     "timestamp": 1733146085970,
     "user": {
      "displayName": "JEBIN JOSE",
      "userId": "15477389810463248078"
     },
     "user_tz": -330
    },
    "id": "IIw0mRzcfair",
    "outputId": "34bc4219-435e-4be9-e956-84e8244f7bef"
   },
   "outputs": [
    {
     "data": {
      "text/plain": [
       "<Axes: xlabel='count', ylabel='Category'>"
      ]
     },
     "execution_count": 6,
     "metadata": {},
     "output_type": "execute_result"
    },
    {
     "data": {
      "image/png": "[encoded data removed]",
      "text/plain": [
       "<Figure size 432x288 with 1 Axes>"
      ]
     },
     "metadata": {
      "needs_background": "light"
     },
     "output_type": "display_data"
    }
   ],
   "source": [
    "sns.countplot(df['Category'])"
   ]
  },
  {
   "cell_type": "code",
   "execution_count": 7,
   "metadata": {
    "colab": {
     "base_uri": "https://localhost:8080/",
     "height": 36
    },
    "executionInfo": {
     "elapsed": 351,
     "status": "ok",
     "timestamp": 1733146088569,
     "user": {
      "displayName": "JEBIN JOSE",
      "userId": "15477389810463248078"
     },
     "user_tz": -330
    },
    "id": "Tmm-gEE_fnF4",
    "outputId": "c0072b74-f15f-4fce-f893-6e17438e865c"
   },
   "outputs": [
    {
     "data": {
      "text/plain": [
       "'Data Science'"
      ]
     },
     "execution_count": 7,
     "metadata": {},
     "output_type": "execute_result"
    }
   ],
   "source": [
    "df['Category'][0]"
   ]
  },
  {
   "cell_type": "code",
   "execution_count": 8,
   "metadata": {
    "colab": {
     "base_uri": "https://localhost:8080/",
     "height": 140
    },
    "executionInfo": {
     "elapsed": 7,
     "status": "ok",
     "timestamp": 1733146089980,
     "user": {
      "displayName": "JEBIN JOSE",
      "userId": "15477389810463248078"
     },
     "user_tz": -330
    },
    "id": "ONc_PpsJfw-h",
    "outputId": "9b721584-13d1-4d0d-f9e7-50ac15330711"
   },
   "outputs": [
    {
     "data": {
      "text/plain": [
       "'Skills * Programming Languages: Python (pandas, numpy, scipy, scikit-learn, matplotlib), Sql, Java, JavaScript/JQuery. * Machine learning: Regression, SVM, NaÃ¯ve Bayes, KNN, Random Forest, Decision Trees, Boosting techniques, Cluster Analysis, Word Embedding, Sentiment Analysis, Natural Language processing, Dimensionality reduction, Topic Modelling (LDA, NMF), PCA & Neural Nets. * Database Visualizations: Mysql, SqlServer, Cassandra, Hbase, ElasticSearch D3.js, DC.js, Plotly, kibana, matplotlib, ggplot, Tableau. * Others: Regular Expression, HTML, CSS, Angular 6, Logstash, Kafka, Python Flask, Git, Docker, computer vision - Open CV and understanding of Deep learning.Education Details \\r\\n\\r\\nData Science Assurance Associate \\r\\n\\r\\nData Science Assurance Associate - Ernst & Young LLP\\r\\nSkill Details \\r\\nJAVASCRIPT- Exprience - 24 months\\r\\njQuery- Exprience - 24 months\\r\\nPython- Exprience - 24 monthsCompany Details \\r\\ncompany - Ernst & Young LLP\\r\\ndescription - Fraud Investigations and Dispute Services   Assurance\\r\\nTECHNOLOGY ASSISTED REVIEW\\r\\nTAR (Technology Assisted Review) assists in accelerating the review process and run analytics and generate reports.\\r\\n* Core member of a team helped in developing automated review platform tool from scratch for assisting E discovery domain, this tool implements predictive coding and topic modelling by automating reviews, resulting in reduced labor costs and time spent during the lawyers review.\\r\\n* Understand the end to end flow of the solution, doing research and development for classification models, predictive analysis and mining of the information present in text data. Worked on analyzing the outputs and precision monitoring for the entire tool.\\r\\n* TAR assists in predictive coding, topic modelling from the evidence by following EY standards. Developed the classifier models in order to identify \"red flags\" and fraud-related issues.\\r\\n\\r\\nTools & Technologies: Python, scikit-learn, tfidf, word2vec, doc2vec, cosine similarity, NaÃ¯ve Bayes, LDA, NMF for topic modelling, Vader and text blob for sentiment analysis. Matplot lib, Tableau dashboard for reporting.\\r\\n\\r\\nMULTIPLE DATA SCIENCE AND ANALYTIC PROJECTS (USA CLIENTS)\\r\\nTEXT ANALYTICS - MOTOR VEHICLE CUSTOMER REVIEW DATA * Received customer feedback survey data for past one year. Performed sentiment (Positive, Negative & Neutral) and time series analysis on customer comments across all 4 categories.\\r\\n* Created heat map of terms by survey category based on frequency of words * Extracted Positive and Negative words across all the Survey categories and plotted Word cloud.\\r\\n* Created customized tableau dashboards for effective reporting and visualizations.\\r\\nCHATBOT * Developed a user friendly chatbot for one of our Products which handle simple questions about hours of operation, reservation options and so on.\\r\\n* This chat bot serves entire product related questions. Giving overview of tool via QA platform and also give recommendation responses so that user question to build chain of relevant answer.\\r\\n* This too has intelligence to build the pipeline of questions as per user requirement and asks the relevant /recommended questions.\\r\\n\\r\\nTools & Technologies: Python, Natural language processing, NLTK, spacy, topic modelling, Sentiment analysis, Word Embedding, scikit-learn, JavaScript/JQuery, SqlServer\\r\\n\\r\\nINFORMATION GOVERNANCE\\r\\nOrganizations to make informed decisions about all of the information they store. The integrated Information Governance portfolio synthesizes intelligence across unstructured data sources and facilitates action to ensure organizations are best positioned to counter information risk.\\r\\n* Scan data from multiple sources of formats and parse different file formats, extract Meta data information, push results for indexing elastic search and created customized, interactive dashboards using kibana.\\r\\n* Preforming ROT Analysis on the data which give information of data which helps identify content that is either Redundant, Outdated, or Trivial.\\r\\n* Preforming full-text search analysis on elastic search with predefined methods which can tag as (PII) personally identifiable information (social security numbers, addresses, names, etc.) which frequently targeted during cyber-attacks.\\r\\nTools & Technologies: Python, Flask, Elastic Search, Kibana\\r\\n\\r\\nFRAUD ANALYTIC PLATFORM\\r\\nFraud Analytics and investigative platform to review all red flag cases.\\r\\nâ\\x80¢ FAP is a Fraud Analytics and investigative platform with inbuilt case manager and suite of Analytics for various ERP systems.\\r\\n* It can be used by clients to interrogate their Accounting systems for identifying the anomalies which can be indicators of fraud by running advanced analytics\\r\\nTools & Technologies: HTML, JavaScript, SqlServer, JQuery, CSS, Bootstrap, Node.js, D3.js, DC.js'"
      ]
     },
     "execution_count": 8,
     "metadata": {},
     "output_type": "execute_result"
    }
   ],
   "source": [
    "df['Resume'][0]"
   ]
  },
  {
   "cell_type": "code",
   "execution_count": 9,
   "metadata": {
    "colab": {
     "base_uri": "https://localhost:8080/"
    },
    "executionInfo": {
     "elapsed": 348,
     "status": "ok",
     "timestamp": 1733146091875,
     "user": {
      "displayName": "JEBIN JOSE",
      "userId": "15477389810463248078"
     },
     "user_tz": -330
    },
    "id": "F9HwSRa7fzZP",
    "outputId": "81c339a1-b5c5-498e-9347-2fb810c22014"
   },
   "outputs": [
    {
     "name": "stdout",
     "output_type": "stream",
     "text": [
      "Orginal Category\n",
      "Category\n",
      "Java Developer               84\n",
      "Testing                      70\n",
      "DevOps Engineer              55\n",
      "Python Developer             48\n",
      "Web Designing                45\n",
      "HR                           44\n",
      "Hadoop                       42\n",
      "Blockchain                   40\n",
      "ETL Developer                40\n",
      "Operations Manager           40\n",
      "Data Science                 40\n",
      "Sales                        40\n",
      "Mechanical Engineer          40\n",
      "Arts                         36\n",
      "Database                     33\n",
      "Electrical Engineering       30\n",
      "Health and fitness           30\n",
      "PMO                          30\n",
      "Business Analyst             28\n",
      "DotNet Developer             28\n",
      "Automation Testing           26\n",
      "Network Security Engineer    25\n",
      "SAP Developer                24\n",
      "Civil Engineer               24\n",
      "Advocate                     20\n",
      "Name: count, dtype: int64\n",
      "84\n",
      "Balanced Category\n",
      "Category\n",
      "Data Science                 84\n",
      "Mechanical Engineer          84\n",
      "HR                           84\n",
      "Web Designing                84\n",
      "Arts                         84\n",
      "PMO                          84\n",
      "Java Developer               84\n",
      "DotNet Developer             84\n",
      "SAP Developer                84\n",
      "Business Analyst             84\n",
      "Network Security Engineer    84\n",
      "ETL Developer                84\n",
      "Civil Engineer               84\n",
      "DevOps Engineer              84\n",
      "Testing                      84\n",
      "Python Developer             84\n",
      "Sales                        84\n",
      "Database                     84\n",
      "Electrical Engineering       84\n",
      "Health and fitness           84\n",
      "Operations Manager           84\n",
      "Blockchain                   84\n",
      "Advocate                     84\n",
      "Automation Testing           84\n",
      "Hadoop                       84\n",
      "Name: count, dtype: int64\n"
     ]
    },
    {
     "name": "stderr",
     "output_type": "stream",
     "text": [
      "<ipython-input-9-6a81e4d34873>:7: DeprecationWarning: DataFrameGroupBy.apply operated on the grouping columns. This behavior is deprecated, and in a future version of pandas the grouping columns will be excluded from the operation. Either pass `include_groups=False` to exclude the groupings or explicitly select the grouping columns after groupby to silence this warning.\n",
      "  balanced_df = df.groupby('Category').apply(lambda x: x.sample(max_size, replace= True)).reset_index(drop=True)\n"
     ]
    }
   ],
   "source": [
    "print('Orginal Category')\n",
    "print(df['Category'].value_counts())\n",
    "\n",
    "max_size = df['Category'].value_counts().max()\n",
    "print(max_size)\n",
    "\n",
    "balanced_df = df.groupby('Category').apply(lambda x: x.sample(max_size, replace= True)).reset_index(drop=True)\n",
    "\n",
    "df = balanced_df.sample(frac=1).reset_index(drop = True)\n",
    "\n",
    "print('Balanced Category')\n",
    "print(df['Category'].value_counts())"
   ]
  },
  {
   "cell_type": "code",
   "execution_count": 10,
   "metadata": {
    "executionInfo": {
     "elapsed": 2,
     "status": "ok",
     "timestamp": 1733146720443,
     "user": {
      "displayName": "JEBIN JOSE",
      "userId": "15477389810463248078"
     },
     "user_tz": -330
    },
    "id": "x6-UWdNKg8ZT"
   },
   "outputs": [],
   "source": [
    "import re\n",
    "def cleanResume(txt):\n",
    "    cleanText = re.sub('http\\S+\\s', ' ', txt)\n",
    "    cleanText = re.sub('RT|cc', ' ', cleanText)\n",
    "    cleanText = re.sub('#\\S+\\s', ' ', cleanText)\n",
    "    cleanText = re.sub('@\\S+', '  ', cleanText)\n",
    "    cleanText = re.sub('[%s]' % re.escape(\"\"\"!\"#$%&'()*+,-./:;<=>?@[\\]^_`{|}~\"\"\"), ' ', cleanText)\n",
    "    cleanText = re.sub(r'[^\\x00-\\x7f]', ' ', cleanText)\n",
    "    cleanText = re.sub('\\s+', ' ', cleanText)\n",
    "    return cleanText"
   ]
  },
  {
   "cell_type": "code",
   "execution_count": 11,
   "metadata": {
    "executionInfo": {
     "elapsed": 1443,
     "status": "ok",
     "timestamp": 1733146741881,
     "user": {
      "displayName": "JEBIN JOSE",
      "userId": "15477389810463248078"
     },
     "user_tz": -330
    },
    "id": "YS7i_ng6iNS1"
   },
   "outputs": [],
   "source": [
    "df['Resume'] = df['Resume'].apply(lambda x: cleanResume(x))"
   ]
  },
  {
   "cell_type": "code",
   "execution_count": 12,
   "metadata": {
    "executionInfo": {
     "elapsed": 731,
     "status": "ok",
     "timestamp": 1733146768567,
     "user": {
      "displayName": "JEBIN JOSE",
      "userId": "15477389810463248078"
     },
     "user_tz": -330
    },
    "id": "9I-97lMFmIRk"
   },
   "outputs": [],
   "source": [
    "from sklearn.preprocessing import LabelEncoder\n",
    "le = LabelEncoder()"
   ]
  },
  {
   "cell_type": "code",
   "execution_count": 13,
   "metadata": {
    "executionInfo": {
     "elapsed": 380,
     "status": "ok",
     "timestamp": 1733146842757,
     "user": {
      "displayName": "JEBIN JOSE",
      "userId": "15477389810463248078"
     },
     "user_tz": -330
    },
    "id": "kwhMLWw4mO-G"
   },
   "outputs": [],
   "source": [
    "df['Category']=le.fit_transform(df['Category'])"
   ]
  },
  {
   "cell_type": "code",
   "execution_count": 14,
   "metadata": {
    "colab": {
     "base_uri": "https://localhost:8080/"
    },
    "executionInfo": {
     "elapsed": 6,
     "status": "ok",
     "timestamp": 1733146861604,
     "user": {
      "displayName": "JEBIN JOSE",
      "userId": "15477389810463248078"
     },
     "user_tz": -330
    },
    "id": "BSnaLFLLmY6X",
    "outputId": "e15f7c04-93af-4206-d210-475c91a1f22b"
   },
   "outputs": [
    {
     "data": {
      "text/plain": [
       "array([ 6,  8,  2,  0,  3, 18, 14, 11,  7, 22, 20, 23,  5, 16, 10, 17,  4,\n",
       "       21,  9, 15, 19,  1, 24, 12, 13])"
      ]
     },
     "execution_count": 14,
     "metadata": {},
     "output_type": "execute_result"
    }
   ],
   "source": [
    "df['Category'].unique()"
   ]
  },
  {
   "cell_type": "code",
   "execution_count": 15,
   "metadata": {
    "colab": {
     "base_uri": "https://localhost:8080/",
     "height": 899
    },
    "collapsed": true,
    "executionInfo": {
     "elapsed": 388,
     "status": "ok",
     "timestamp": 1733146883267,
     "user": {
      "displayName": "JEBIN JOSE",
      "userId": "15477389810463248078"
     },
     "user_tz": -330
    },
    "id": "GKSkg8DFml0v",
    "outputId": "54836ac2-2fd5-42f9-fc57-6761b327a88e"
   },
   "outputs": [],
   "source": [
    "#df['Category'].value_counts()"
   ]
  },
  {
   "cell_type": "code",
   "execution_count": 16,
   "metadata": {
    "executionInfo": {
     "elapsed": 3766,
     "status": "ok",
     "timestamp": 1733146971802,
     "user": {
      "displayName": "JEBIN JOSE",
      "userId": "15477389810463248078"
     },
     "user_tz": -330
    },
    "id": "NW4xzoVemrDr"
   },
   "outputs": [],
   "source": [
    "from sklearn.feature_extraction.text import TfidfVectorizer\n",
    "tfidf = TfidfVectorizer(stop_words='english')\n",
    "\n",
    "required_text = tfidf.fit_transform(df['Resume'])"
   ]
  },
  {
   "cell_type": "code",
   "execution_count": 17,
   "metadata": {
    "executionInfo": {
     "elapsed": 504,
     "status": "ok",
     "timestamp": 1733147006499,
     "user": {
      "displayName": "JEBIN JOSE",
      "userId": "15477389810463248078"
     },
     "user_tz": -330
    },
    "id": "beSVJp50m_2G"
   },
   "outputs": [],
   "source": [
    "from sklearn.model_selection import train_test_split\n",
    "\n",
    "X_train, X_test, y_train, y_test = train_test_split(required_text, df['Category'], test_size=0.2, random_state=42)"
   ]
  },
  {
   "cell_type": "code",
   "execution_count": 18,
   "metadata": {
    "colab": {
     "base_uri": "https://localhost:8080/"
    },
    "executionInfo": {
     "elapsed": 594,
     "status": "ok",
     "timestamp": 1733147014922,
     "user": {
      "displayName": "JEBIN JOSE",
      "userId": "15477389810463248078"
     },
     "user_tz": -330
    },
    "id": "_bbhLjlEnJG7",
    "outputId": "a4c1fef1-b55d-4572-f29e-497fe5bc94a4"
   },
   "outputs": [
    {
     "data": {
      "text/plain": [
       "(1680, 7298)"
      ]
     },
     "execution_count": 18,
     "metadata": {},
     "output_type": "execute_result"
    }
   ],
   "source": [
    "X_train.shape"
   ]
  },
  {
   "cell_type": "code",
   "execution_count": 19,
   "metadata": {
    "colab": {
     "base_uri": "https://localhost:8080/"
    },
    "executionInfo": {
     "elapsed": 376,
     "status": "ok",
     "timestamp": 1733147026238,
     "user": {
      "displayName": "JEBIN JOSE",
      "userId": "15477389810463248078"
     },
     "user_tz": -330
    },
    "id": "CeYHwF5VnK8M",
    "outputId": "28e4e3e1-f1cb-4792-b3cf-c5116573f77f"
   },
   "outputs": [
    {
     "data": {
      "text/plain": [
       "(420, 7298)"
      ]
     },
     "execution_count": 19,
     "metadata": {},
     "output_type": "execute_result"
    }
   ],
   "source": [
    "X_test.shape"
   ]
  },
  {
   "cell_type": "code",
   "execution_count": 20,
   "metadata": {
    "executionInfo": {
     "elapsed": 1235,
     "status": "ok",
     "timestamp": 1733147065864,
     "user": {
      "displayName": "JEBIN JOSE",
      "userId": "15477389810463248078"
     },
     "user_tz": -330
    },
    "id": "E1X6rm8ZnN3h"
   },
   "outputs": [],
   "source": [
    "from sklearn.neighbors import KNeighborsClassifier\n",
    "from sklearn.svm import SVC\n",
    "from sklearn.ensemble import RandomForestClassifier\n",
    "from sklearn.linear_model import LogisticRegression\n",
    "from sklearn.naive_bayes import GaussianNB\n",
    "from sklearn.multiclass import OneVsRestClassifier\n",
    "from sklearn.metrics import accuracy_score, confusion_matrix, classification_report"
   ]
  },
  {
   "cell_type": "code",
   "execution_count": 21,
   "metadata": {
    "executionInfo": {
     "elapsed": 389,
     "status": "ok",
     "timestamp": 1733147295914,
     "user": {
      "displayName": "JEBIN JOSE",
      "userId": "15477389810463248078"
     },
     "user_tz": -330
    },
    "id": "p6W-1etwnXbN"
   },
   "outputs": [],
   "source": [
    "X_train = X_train.toarray() if hasattr(X_train, 'toarray') else X_train\n",
    "X_test = X_test.toarray() if hasattr(X_test, 'toarray') else X_test"
   ]
  },
  {
   "cell_type": "code",
   "execution_count": 22,
   "metadata": {
    "colab": {
     "base_uri": "https://localhost:8080/"
    },
    "executionInfo": {
     "elapsed": 14162,
     "status": "ok",
     "timestamp": 1733147336295,
     "user": {
      "displayName": "JEBIN JOSE",
      "userId": "15477389810463248078"
     },
     "user_tz": -330
    },
    "id": "qzECOOsYoPph",
    "outputId": "652b2e81-fda8-4ec2-8160-fe856b9c051d"
   },
   "outputs": [
    {
     "name": "stdout",
     "output_type": "stream",
     "text": [
      "\n",
      "KNeighborsClassifier Results:\n",
      "Accuracy: 1.0000\n"
     ]
    }
   ],
   "source": [
    "knn_model = OneVsRestClassifier(KNeighborsClassifier())\n",
    "knn_model.fit(X_train, y_train)\n",
    "y_pred_knn = knn_model.predict(X_test)\n",
    "print(\"\\nKNeighborsClassifier Results:\")\n",
    "print(f\"Accuracy: {accuracy_score(y_test, y_pred_knn):.4f}\")\n",
    "#print(f\"Confusion Matrix:\\n{confusion_matrix(y_test, y_pred_knn)}\")\n",
    "#print(f\"Classification Report:\\n{classification_report(y_test, y_pred_knn)}\")"
   ]
  },
  {
   "cell_type": "code",
   "execution_count": 23,
   "metadata": {
    "colab": {
     "base_uri": "https://localhost:8080/"
    },
    "executionInfo": {
     "elapsed": 59555,
     "status": "ok",
     "timestamp": 1733147412206,
     "user": {
      "displayName": "JEBIN JOSE",
      "userId": "15477389810463248078"
     },
     "user_tz": -330
    },
    "id": "CiG1XIe1oWSf",
    "outputId": "dfef54a6-70de-4ac0-a4d1-24bf55fdffe4"
   },
   "outputs": [
    {
     "name": "stdout",
     "output_type": "stream",
     "text": [
      "\n",
      "SVC Results:\n",
      "Accuracy: 1.0000\n"
     ]
    }
   ],
   "source": [
    "svc_model = OneVsRestClassifier(SVC())\n",
    "svc_model.fit(X_train, y_train)\n",
    "y_pred_svc = svc_model.predict(X_test)\n",
    "print(\"\\nSVC Results:\")\n",
    "print(f\"Accuracy: {accuracy_score(y_test, y_pred_svc):.4f}\")\n",
    "#print(f\"Confusion Matrix:\\n{confusion_matrix(y_test, y_pred_svc)}\")\n",
    "#print(f\"Classification Report:\\n{classification_report(y_test, y_pred_svc)}\")"
   ]
  },
  {
   "cell_type": "code",
   "execution_count": 24,
   "metadata": {
    "colab": {
     "base_uri": "https://localhost:8080/"
    },
    "executionInfo": {
     "elapsed": 29084,
     "status": "ok",
     "timestamp": 1733147449976,
     "user": {
      "displayName": "JEBIN JOSE",
      "userId": "15477389810463248078"
     },
     "user_tz": -330
    },
    "id": "9rVeAwGhodve",
    "outputId": "6b70d4f4-9fbc-4f49-c649-7ef0c920da26"
   },
   "outputs": [
    {
     "name": "stdout",
     "output_type": "stream",
     "text": [
      "\n",
      "RandomForestClassifier Results:\n",
      "Accuracy: 1.0000\n"
     ]
    }
   ],
   "source": [
    "rf_model = OneVsRestClassifier(RandomForestClassifier())\n",
    "rf_model.fit(X_train, y_train)\n",
    "y_pred_rf = rf_model.predict(X_test)\n",
    "print(\"\\nRandomForestClassifier Results:\")\n",
    "print(f\"Accuracy: {accuracy_score(y_test, y_pred_rf):.4f}\")\n",
    "#print(f\"Confusion Matrix:\\n{confusion_matrix(y_test, y_pred_rf)}\")\n",
    "#print(f\"Classification Report:\\n{classification_report(y_test, y_pred_rf)}\")"
   ]
  },
  {
   "cell_type": "code",
   "execution_count": 25,
   "metadata": {
    "executionInfo": {
     "elapsed": 2040,
     "status": "ok",
     "timestamp": 1733147608545,
     "user": {
      "displayName": "JEBIN JOSE",
      "userId": "15477389810463248078"
     },
     "user_tz": -330
    },
    "id": "X16hD3oYoj5G"
   },
   "outputs": [],
   "source": [
    "import pickle\n",
    "pickle.dump(tfidf,open('tfidf.pkl','wb'))\n",
    "pickle.dump(svc_model, open('clf.pkl', 'wb'))\n",
    "pickle.dump(le, open(\"encoder.pkl\",'wb'))"
   ]
  },
  {
   "cell_type": "code",
   "execution_count": 26,
   "metadata": {
    "executionInfo": {
     "elapsed": 358,
     "status": "ok",
     "timestamp": 1733147706604,
     "user": {
      "displayName": "JEBIN JOSE",
      "userId": "15477389810463248078"
     },
     "user_tz": -330
    },
    "id": "7az0YlnopbuL"
   },
   "outputs": [],
   "source": [
    "def pred(input_resume):\n",
    "\n",
    "    cleaned_text = cleanResume(input_resume)\n",
    "\n",
    "\n",
    "    vectorized_text = tfidf.transform([cleaned_text])\n",
    "\n",
    "\n",
    "    vectorized_text = vectorized_text.toarray()\n",
    "\n",
    "\n",
    "    predicted_category = svc_model.predict(vectorized_text)\n",
    "\n",
    "\n",
    "    predicted_category_name = le.inverse_transform(predicted_category)\n",
    "\n",
    "    return predicted_category_name[0]"
   ]
  },
  {
   "cell_type": "code",
   "execution_count": 27,
   "metadata": {
    "colab": {
     "base_uri": "https://localhost:8080/",
     "height": 36
    },
    "executionInfo": {
     "elapsed": 410,
     "status": "ok",
     "timestamp": 1733147782390,
     "user": {
      "displayName": "JEBIN JOSE",
      "userId": "15477389810463248078"
     },
     "user_tz": -330
    },
    "id": "mqhvl6-Fp0Af",
    "outputId": "379d26ea-ee43-4dc7-d284-29cfa7881419"
   },
   "outputs": [
    {
     "data": {
      "text/plain": [
       "'Data Science'"
      ]
     },
     "execution_count": 27,
     "metadata": {},
     "output_type": "execute_result"
    }
   ],
   "source": [
    "my_resume = ''' Skills\n",
    " Programming : Python, C++\n",
    " Machine Learning : TensorFlow, scikit-learn, Supervised Learning, Unsupervised\n",
    "Learning, Deep Learning (ANN,CNN,RNN), NLP, Computer Vision\n",
    " Data Handling : Numpy, Pandas, Matplotlib, Seaborn, Feature Engineering,\n",
    "Evaluation, Data Pre-processing, Data Cleaning, Cross-Validation\n",
    "Projects\n",
    "Object Recognition - Github\n",
    " Build and compared image classification models (CNN, ResNet-50) on CIFAR-10\n",
    "dataset.\n",
    " Demonstrated strong accuracy of 0.93 in object classification, showcasing the models\n",
    "ability to learn visual features.\n",
    "Fashion Image Classifier - Github\n",
    " Implemented a Conventional Neural Network to classify fashion articles from the\n",
    "Fashion MNIST dataset.\n",
    " Demonstrated high accuracy of 0.89 in image recognition showcasing the model’s\n",
    "ability to learn complex visual patterns.\n",
    "Fake News Predictor - Github\n",
    " Developed a text classification model using Logistic Regression to identify fake news\n",
    "articles.\n",
    " Achieved a strong accuracy rate of 0.97, highlighting the models potential to combat\n",
    "misinformation.\n",
    "Calories Burnt Estimator - Github\n",
    " Developed a predictive model using XGBoost to accurately estimate calorie\n",
    "expenditure based on exercise\n",
    " Achieved an impressive Mean Absolute Error of 1.48, demonstrating the model’s\n",
    "effectiveness in personalized health tracking\n",
    "Face Mask Detector - Github\n",
    " Developed a CNN model to detect face masks in images.\n",
    " Achieved a high accuracy rate of 0.92, highlighting the models potential for real world\n",
    "applications in public health and safety.\n",
    "Rock vs Mine Prediction - Github\n",
    " Built a classification model using Logistic Regression to distinguish between sonar\n",
    "signals from mines and rocks\n",
    " Demonstrated accuracy of 0.76 showcasing the model’s ability to learn from sonar data.\n",
    "Education\n",
    " M.E in Communication Systems\n",
    " SSN College of Engineering, Chennai (2021-2023).\n",
    " B.E in Electronics and Communication Engineering\n",
    " Panimalar Engineering College, Chennai (2017-2021).'''\n",
    "\n",
    "pred(my_resume)"
   ]
  },
  {
   "cell_type": "code",
   "execution_count": null,
   "metadata": {},
   "outputs": [],
   "source": []
  }
 ],
 "metadata": {
  "accelerator": "TPU",
  "colab": {
   "authorship_tag": "ABX9TyMwMbUPrm6GcQ18x9oTVOAs",
   "gpuType": "V28",
   "provenance": []
  },
  "kernelspec": {
   "display_name": "gc",
   "language": "python",
   "name": "python3"
  },
  "language_info": {
   "codemirror_mode": {
    "name": "ipython",
    "version": 3
   },
   "file_extension": ".py",
   "mimetype": "text/x-python",
   "name": "python",
   "nbconvert_exporter": "python",
   "pygments_lexer": "ipython3",
   "version": "3.10.12"
  }
 },
 "nbformat": 4,
 "nbformat_minor": 0
}
