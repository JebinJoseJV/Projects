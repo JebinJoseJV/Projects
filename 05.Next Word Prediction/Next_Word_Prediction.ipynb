{
  "nbformat": 4,
  "nbformat_minor": 0,
  "metadata": {
    "colab": {
      "provenance": [],
      "gpuType": "T4"
    },
    "kernelspec": {
      "name": "python3",
      "display_name": "Python 3"
    },
    "language_info": {
      "name": "python"
    },
    "accelerator": "GPU"
  },
  "cells": [
    {
      "cell_type": "code",
      "execution_count": 1,
      "metadata": {
        "id": "t7YTbUDz0UMs"
      },
      "outputs": [],
      "source": [
        "import pandas as pd\n",
        "import numpy as np\n",
        "from tensorflow.keras.preprocessing.text import Tokenizer\n",
        "from tensorflow.keras.utils import to_categorical\n",
        "from tensorflow.keras.models import Sequential\n",
        "from tensorflow.keras.layers import LSTM,Dense,Embedding\n",
        "from tensorflow.keras.callbacks import ModelCheckpoint\n",
        "from tensorflow.keras.optimizers import Adam"
      ]
    },
    {
      "cell_type": "code",
      "source": [
        "file = open('data.txt','r',encoding = \"utf8\")"
      ],
      "metadata": {
        "id": "rVN_AqGB0kqn"
      },
      "execution_count": 2,
      "outputs": []
    },
    {
      "cell_type": "code",
      "source": [
        "lines = []\n",
        "for i in file:\n",
        "  lines.append(i)"
      ],
      "metadata": {
        "id": "uFyxhE9r0yYV"
      },
      "execution_count": 3,
      "outputs": []
    },
    {
      "cell_type": "code",
      "source": [
        "data = \"\"\n",
        "for i in lines:\n",
        "  data = ' '.join(lines)"
      ],
      "metadata": {
        "id": "Anqi7uX204OW"
      },
      "execution_count": 4,
      "outputs": []
    },
    {
      "cell_type": "code",
      "source": [
        "data = data.replace('\\n', '').replace('\\r', '').replace('\\ufeff', '').replace('“','').replace('”','')"
      ],
      "metadata": {
        "id": "CqjhlyHP1FMd"
      },
      "execution_count": 5,
      "outputs": []
    },
    {
      "cell_type": "code",
      "source": [
        "data = data.split()\n",
        "data = ' '.join(data)"
      ],
      "metadata": {
        "id": "wetmSHYW1IZm"
      },
      "execution_count": 6,
      "outputs": []
    },
    {
      "cell_type": "code",
      "source": [
        "data[:300]"
      ],
      "metadata": {
        "colab": {
          "base_uri": "https://localhost:8080/",
          "height": 53
        },
        "id": "wOuUJdQI1OMO",
        "outputId": "4b182993-db6f-4dd6-9fae-e19281e51088"
      },
      "execution_count": 7,
      "outputs": [
        {
          "output_type": "execute_result",
          "data": {
            "text/plain": [
              "'THE ADVENTURES OF SHERLOCK HOLMES Arthur Conan Doyle Table of contents A Scandal in Bohemia The Red-Headed League A Case of Identity The Boscombe Valley Mystery The Five Orange Pips The Man with the Twisted Lip The Adventure of the Blue Carbuncle The Adventure of the Speckled Band The Adventure of t'"
            ],
            "application/vnd.google.colaboratory.intrinsic+json": {
              "type": "string"
            }
          },
          "metadata": {},
          "execution_count": 7
        }
      ]
    },
    {
      "cell_type": "code",
      "source": [
        "len(data)"
      ],
      "metadata": {
        "colab": {
          "base_uri": "https://localhost:8080/"
        },
        "id": "K49PKpzq4eqH",
        "outputId": "647cede1-21f0-4972-9356-0288c62fa9c5"
      },
      "execution_count": 8,
      "outputs": [
        {
          "output_type": "execute_result",
          "data": {
            "text/plain": [
              "559685"
            ]
          },
          "metadata": {},
          "execution_count": 8
        }
      ]
    },
    {
      "cell_type": "code",
      "source": [
        "tokenizer = Tokenizer()\n",
        "tokenizer.fit_on_texts([data])\n"
      ],
      "metadata": {
        "id": "9Yf9dfzT1iEf"
      },
      "execution_count": 9,
      "outputs": []
    },
    {
      "cell_type": "code",
      "source": [
        "sequence_data = tokenizer.texts_to_sequences([data])[0]\n",
        "sequence_data[:15]"
      ],
      "metadata": {
        "colab": {
          "base_uri": "https://localhost:8080/"
        },
        "id": "2Zo7xmxL4mxz",
        "outputId": "6b55135a-4ead-4ec0-eb4b-28418a35b79c"
      },
      "execution_count": 10,
      "outputs": [
        {
          "output_type": "execute_result",
          "data": {
            "text/plain": [
              "[1, 1561, 5, 129, 34, 647, 4498, 4499, 226, 5, 1562, 6, 827, 7, 871]"
            ]
          },
          "metadata": {},
          "execution_count": 10
        }
      ]
    },
    {
      "cell_type": "code",
      "source": [
        "len(sequence_data)"
      ],
      "metadata": {
        "colab": {
          "base_uri": "https://localhost:8080/"
        },
        "id": "Jfb06L6Q4u66",
        "outputId": "aa765096-67f6-4176-e1fc-2c1807b91ea3"
      },
      "execution_count": 11,
      "outputs": [
        {
          "output_type": "execute_result",
          "data": {
            "text/plain": [
              "105879"
            ]
          },
          "metadata": {},
          "execution_count": 11
        }
      ]
    },
    {
      "cell_type": "code",
      "source": [
        "vocab_size = len(tokenizer.word_index)+1\n",
        "vocab_size"
      ],
      "metadata": {
        "colab": {
          "base_uri": "https://localhost:8080/"
        },
        "id": "d4OMm1KO5AhX",
        "outputId": "6d561262-1797-4baf-a2d1-961e526bb1ac"
      },
      "execution_count": 12,
      "outputs": [
        {
          "output_type": "execute_result",
          "data": {
            "text/plain": [
              "8200"
            ]
          },
          "metadata": {},
          "execution_count": 12
        }
      ]
    },
    {
      "cell_type": "code",
      "source": [
        "sequence = []\n",
        "\n",
        "for i in range(3,len(sequence_data)):\n",
        "  words = sequence_data[i-3:i+1]\n",
        "  sequence.append(words)\n",
        "\n",
        "print('The length of sequence: ',len(sequence))\n",
        "sequences = np.array(sequence)"
      ],
      "metadata": {
        "colab": {
          "base_uri": "https://localhost:8080/"
        },
        "id": "IaW_LIr96SMC",
        "outputId": "122aebc5-f4e3-4dca-d68b-497d22566bb9"
      },
      "execution_count": 13,
      "outputs": [
        {
          "output_type": "stream",
          "name": "stdout",
          "text": [
            "The length of sequence:  105876\n"
          ]
        }
      ]
    },
    {
      "cell_type": "code",
      "source": [
        "sequences[:1]"
      ],
      "metadata": {
        "colab": {
          "base_uri": "https://localhost:8080/"
        },
        "id": "NXBSeFJq6WFJ",
        "outputId": "f36e6073-d62b-43ac-ef75-d06653f74183"
      },
      "execution_count": 14,
      "outputs": [
        {
          "output_type": "execute_result",
          "data": {
            "text/plain": [
              "array([[   1, 1561,    5,  129]])"
            ]
          },
          "metadata": {},
          "execution_count": 14
        }
      ]
    },
    {
      "cell_type": "code",
      "source": [
        "sequences.shape"
      ],
      "metadata": {
        "colab": {
          "base_uri": "https://localhost:8080/"
        },
        "id": "jC0fcA__6fOU",
        "outputId": "7959cd16-84d6-4a38-8d11-f5c2cc2a048b"
      },
      "execution_count": 15,
      "outputs": [
        {
          "output_type": "execute_result",
          "data": {
            "text/plain": [
              "(105876, 4)"
            ]
          },
          "metadata": {},
          "execution_count": 15
        }
      ]
    },
    {
      "cell_type": "code",
      "source": [
        "X = []\n",
        "y = []\n",
        "\n",
        "for i in sequences:\n",
        "  X.append(i[0:3])\n",
        "  y.append(i[3])\n"
      ],
      "metadata": {
        "id": "d6zNG4o46mLR"
      },
      "execution_count": 16,
      "outputs": []
    },
    {
      "cell_type": "code",
      "source": [
        "type(X)"
      ],
      "metadata": {
        "colab": {
          "base_uri": "https://localhost:8080/"
        },
        "id": "kx3EklVY6tow",
        "outputId": "fcd0843b-1489-4859-f81f-34621c7c6d95"
      },
      "execution_count": 17,
      "outputs": [
        {
          "output_type": "execute_result",
          "data": {
            "text/plain": [
              "list"
            ]
          },
          "metadata": {},
          "execution_count": 17
        }
      ]
    },
    {
      "cell_type": "code",
      "source": [
        "X"
      ],
      "metadata": {
        "colab": {
          "base_uri": "https://localhost:8080/"
        },
        "collapsed": true,
        "id": "DS6m0iNp66Pw",
        "outputId": "8fcdfbb6-5124-4406-f8ec-71ec485d96ad"
      },
      "execution_count": 18,
      "outputs": [
        {
          "output_type": "execute_result",
          "data": {
            "text/plain": [
              "[array([   1, 1561,    5]),\n",
              " array([1561,    5,  129]),\n",
              " array([  5, 129,  34]),\n",
              " array([129,  34, 647]),\n",
              " array([  34,  647, 4498]),\n",
              " array([ 647, 4498, 4499]),\n",
              " array([4498, 4499,  226]),\n",
              " array([4499,  226,    5]),\n",
              " array([ 226,    5, 1562]),\n",
              " array([   5, 1562,    6]),\n",
              " array([1562,    6,  827]),\n",
              " array([  6, 827,   7]),\n",
              " array([827,   7, 871]),\n",
              " array([  7, 871,   1]),\n",
              " array([871,   1, 234]),\n",
              " array([  1, 234, 462]),\n",
              " array([234, 462, 648]),\n",
              " array([462, 648,   6]),\n",
              " array([648,   6, 110]),\n",
              " array([  6, 110,   5]),\n",
              " array([ 110,    5, 2072]),\n",
              " array([   5, 2072,    1]),\n",
              " array([2072,    1,  678]),\n",
              " array([   1,  678, 1360]),\n",
              " array([ 678, 1360,  499]),\n",
              " array([1360,  499,    1]),\n",
              " array([499,   1, 294]),\n",
              " array([  1, 294, 949]),\n",
              " array([294, 949, 872]),\n",
              " array([949, 872,   1]),\n",
              " array([872,   1,  56]),\n",
              " array([ 1, 56, 18]),\n",
              " array([56, 18,  1]),\n",
              " array([  18,    1, 1014]),\n",
              " array([   1, 1014,  873]),\n",
              " array([1014,  873,    1]),\n",
              " array([873,   1, 577]),\n",
              " array([  1, 577,   5]),\n",
              " array([577,   5,   1]),\n",
              " array([  5,   1, 423]),\n",
              " array([   1,  423, 1361]),\n",
              " array([ 423, 1361,    1]),\n",
              " array([1361,    1,  577]),\n",
              " array([  1, 577,   5]),\n",
              " array([577,   5,   1]),\n",
              " array([   5,    1, 1785]),\n",
              " array([   1, 1785,  763]),\n",
              " array([1785,  763,    1]),\n",
              " array([763,   1, 577]),\n",
              " array([  1, 577,   5]),\n",
              " array([577,   5,   1]),\n",
              " array([   5,    1, 3185]),\n",
              " array([   1, 3185,  649]),\n",
              " array([3185,  649,    1]),\n",
              " array([649,   1, 577]),\n",
              " array([  1, 577,   5]),\n",
              " array([577,   5,   1]),\n",
              " array([  5,   1, 764]),\n",
              " array([   1,  764, 1246]),\n",
              " array([ 764, 1246,    1]),\n",
              " array([1246,    1,  577]),\n",
              " array([  1, 577,   5]),\n",
              " array([577,   5,   1]),\n",
              " array([   5,    1, 2073]),\n",
              " array([   1, 2073,  394]),\n",
              " array([2073,  394,    1]),\n",
              " array([394,   1, 577]),\n",
              " array([  1, 577,   5]),\n",
              " array([577,   5,   1]),\n",
              " array([  5,   1, 828]),\n",
              " array([  1, 828, 874]),\n",
              " array([828, 874,   6]),\n",
              " array([874,   6, 827]),\n",
              " array([  6, 827,   7]),\n",
              " array([827,   7, 871]),\n",
              " array([  7, 871, 226]),\n",
              " array([871, 226,   5]),\n",
              " array([ 226,    5, 1562]),\n",
              " array([   5, 1562, 1362]),\n",
              " array([1562, 1362, 3186]),\n",
              " array([1362, 3186, 1362]),\n",
              " array([3186, 1362, 2488]),\n",
              " array([1362, 2488, 1362]),\n",
              " array([2488, 1362, 3187]),\n",
              " array([1362, 3187, 1362]),\n",
              " array([3187, 1362,    3]),\n",
              " array([1362,    3,    4]),\n",
              " array([  3,   4, 129]),\n",
              " array([  4, 129,  34]),\n",
              " array([129,  34,  37]),\n",
              " array([34, 37, 14]),\n",
              " array([ 37,  14, 215]),\n",
              " array([ 14, 215,   1]),\n",
              " array([215,   1, 210]),\n",
              " array([  1, 210,   3]),\n",
              " array([210,   3,  16]),\n",
              " array([   3,   16, 1563]),\n",
              " array([  16, 1563,  115]),\n",
              " array([1563,  115,   35]),\n",
              " array([ 115,   35, 3188]),\n",
              " array([  35, 3188,   36]),\n",
              " array([3188,   36,  275]),\n",
              " array([ 36, 275, 102]),\n",
              " array([275, 102,  94]),\n",
              " array([102,  94, 204]),\n",
              " array([ 94, 204,   7]),\n",
              " array([204,   7,  13]),\n",
              " array([  7,  13, 143]),\n",
              " array([ 13, 143,  37]),\n",
              " array([ 143,   37, 4500]),\n",
              " array([  37, 4500,    2]),\n",
              " array([4500,    2, 4501]),\n",
              " array([   2, 4501,    1]),\n",
              " array([4501,    1,  263]),\n",
              " array([  1, 263,   5]),\n",
              " array([263,   5,  36]),\n",
              " array([   5,   36, 4502]),\n",
              " array([  36, 4502,    9]),\n",
              " array([4502,    9,   12]),\n",
              " array([ 9, 12, 25]),\n",
              " array([12, 25,  8]),\n",
              " array([25,  8, 10]),\n",
              " array([  8,  10, 335]),\n",
              " array([ 10, 335, 102]),\n",
              " array([ 335,  102, 1786]),\n",
              " array([ 102, 1786, 2489]),\n",
              " array([1786, 2489,    4]),\n",
              " array([2489,    4,  620]),\n",
              " array([  4, 620,  22]),\n",
              " array([620,  22, 679]),\n",
              " array([ 22, 679, 680]),\n",
              " array([679, 680,  42]),\n",
              " array([ 680,   42, 4503]),\n",
              " array([  42, 4503,    2]),\n",
              " array([4503,    2,    8]),\n",
              " array([ 2,  8, 46]),\n",
              " array([   8,   46, 1564]),\n",
              " array([  46, 1564,   48]),\n",
              " array([1564,   48, 4504]),\n",
              " array([  48, 4504,    4]),\n",
              " array([4504,    4,   13]),\n",
              " array([  4,  13, 500]),\n",
              " array([  13,  500, 2490]),\n",
              " array([ 500, 2490,   23]),\n",
              " array([2490,   23, 2074]),\n",
              " array([  23, 2074, 4505]),\n",
              " array([2074, 4505,  216]),\n",
              " array([4505,  216,   10]),\n",
              " array([216,  10,  12]),\n",
              " array([10, 12,  3]),\n",
              " array([ 12,   3, 160]),\n",
              " array([  3, 160,   9]),\n",
              " array([160,   9,   1]),\n",
              " array([  9,   1, 139]),\n",
              " array([   1,  139, 1363]),\n",
              " array([ 139, 1363,  950]),\n",
              " array([1363,  950,    2]),\n",
              " array([ 950,    2, 2075]),\n",
              " array([   2, 2075,  681]),\n",
              " array([2075,  681,    8]),\n",
              " array([681,   8,   1]),\n",
              " array([  8,   1, 726]),\n",
              " array([  1, 726,  58]),\n",
              " array([726,  58, 176]),\n",
              " array([ 58, 176,  23]),\n",
              " array([176,  23,  17]),\n",
              " array([23, 17,  6]),\n",
              " array([  17,    6, 1364]),\n",
              " array([   6, 1364,   10]),\n",
              " array([1364,   10,   52]),\n",
              " array([10, 52, 16]),\n",
              " array([ 52,  16, 578]),\n",
              " array([ 16, 578, 171]),\n",
              " array([578, 171,   7]),\n",
              " array([171,   7,   6]),\n",
              " array([   7,    6, 2076]),\n",
              " array([   6, 2076,  501]),\n",
              " array([2076,  501,   10]),\n",
              " array([501,  10, 123]),\n",
              " array([ 10, 123, 411]),\n",
              " array([123, 411,   5]),\n",
              " array([411,   5,   1]),\n",
              " array([   5,    1, 4506]),\n",
              " array([   1, 4506, 4507]),\n",
              " array([4506, 4507,  311]),\n",
              " array([4507,  311,   18]),\n",
              " array([311,  18,   6]),\n",
              " array([  18,    6, 4508]),\n",
              " array([   6, 4508,    2]),\n",
              " array([4508,    2,    6]),\n",
              " array([   2,    6, 1787]),\n",
              " array([   6, 1787,   73]),\n",
              " array([1787,   73,   48]),\n",
              " array([  73,   48, 2491]),\n",
              " array([  48, 2491,  412]),\n",
              " array([2491,  412,   22]),\n",
              " array([412,  22,   1]),\n",
              " array([  22,    1, 2077]),\n",
              " array([   1, 2077,  579]),\n",
              " array([2077,  579,   22]),\n",
              " array([579,  22, 951]),\n",
              " array([ 22, 951,   1]),\n",
              " array([ 951,    1, 1247]),\n",
              " array([   1, 1247,   28]),\n",
              " array([1247,   28, 3189]),\n",
              " array([  28, 3189, 2492]),\n",
              " array([3189, 2492,    2]),\n",
              " array([2492,    2, 2078]),\n",
              " array([   2, 2078,   23]),\n",
              " array([2078,   23,   22]),\n",
              " array([23, 22,  1]),\n",
              " array([  22,    1, 2079]),\n",
              " array([   1, 2079, 1565]),\n",
              " array([2079, 1565,    4]),\n",
              " array([1565,    4, 3190]),\n",
              " array([   4, 3190,  116]),\n",
              " array([3190,  116, 4509]),\n",
              " array([ 116, 4509,   60]),\n",
              " array([4509,   60,   13]),\n",
              " array([ 60,  13, 126]),\n",
              " array([  13,  126, 1365]),\n",
              " array([ 126, 1365,    2]),\n",
              " array([1365,    2, 4510]),\n",
              " array([   2, 4510, 3191]),\n",
              " array([4510, 3191, 4511]),\n",
              " array([3191, 4511,   12]),\n",
              " array([4511,   12,    4]),\n",
              " array([  12,    4, 2080]),\n",
              " array([   4, 2080,    6]),\n",
              " array([2080,    6, 4512]),\n",
              " array([   6, 4512, 2493]),\n",
              " array([4512, 2493,   20]),\n",
              " array([2493,   20,  104]),\n",
              " array([ 20, 104, 952]),\n",
              " array([104, 952,   6]),\n",
              " array([952,   6, 198]),\n",
              " array([  6, 198,  32]),\n",
              " array([198,  32,  42]),\n",
              " array([32, 42, 13]),\n",
              " array([  42,   13, 4513]),\n",
              " array([  13, 4513,  875]),\n",
              " array([4513,  875, 4514]),\n",
              " array([ 875, 4514,    7]),\n",
              " array([4514,    7,    6]),\n",
              " array([   7,    6, 4515]),\n",
              " array([   6, 4515, 3192]),\n",
              " array([4515, 3192,   72]),\n",
              " array([3192,   72,    6]),\n",
              " array([  72,    6, 2494]),\n",
              " array([   6, 2494,    7]),\n",
              " array([2494,    7,   46]),\n",
              " array([ 7, 46,  5]),\n",
              " array([46,  5, 13]),\n",
              " array([  5,  13, 126]),\n",
              " array([ 13, 126, 502]),\n",
              " array([126, 502, 829]),\n",
              " array([ 502,  829, 4516]),\n",
              " array([ 829, 4516,   52]),\n",
              " array([4516,   52,   25]),\n",
              " array([52, 25, 26]),\n",
              " array([25, 26, 79]),\n",
              " array([  26,   79, 4517]),\n",
              " array([  79, 4517,   90]),\n",
              " array([4517,   90,    6]),\n",
              " array([ 90,   6, 319]),\n",
              " array([   6,  319, 1786]),\n",
              " array([ 319, 1786,    7]),\n",
              " array([1786,    7,    6]),\n",
              " array([  7,   6, 463]),\n",
              " array([  6, 463, 116]),\n",
              " array([463, 116,  17]),\n",
              " array([116,  17,  13]),\n",
              " array([17, 13,  2]),\n",
              " array([ 13,   2, 140]),\n",
              " array([  2, 140,  29]),\n",
              " array([140,  29,  12]),\n",
              " array([29, 12, 23]),\n",
              " array([12, 23, 46]),\n",
              " array([ 23,  46, 210]),\n",
              " array([ 46, 210,   4]),\n",
              " array([210,   4,  35]),\n",
              " array([ 4, 35,  2]),\n",
              " array([35,  2,  8]),\n",
              " array([  2,   8, 210]),\n",
              " array([  8, 210,  12]),\n",
              " array([210,  12,   1]),\n",
              " array([ 12,   1, 395]),\n",
              " array([  1, 395, 679]),\n",
              " array([395, 679, 680]),\n",
              " array([679, 680,   5]),\n",
              " array([ 680,    5, 4518]),\n",
              " array([   5, 4518,    2]),\n",
              " array([4518,    2, 3193]),\n",
              " array([   2, 3193, 1015]),\n",
              " array([3193, 1015,    3]),\n",
              " array([1015,    3,   19]),\n",
              " array([  3,  19, 176]),\n",
              " array([ 19, 176,  63]),\n",
              " array([176,  63,   5]),\n",
              " array([63,  5, 34]),\n",
              " array([   5,   34, 1366]),\n",
              " array([  34, 1366,   15]),\n",
              " array([1366,   15,  413]),\n",
              " array([ 15, 413,  19]),\n",
              " array([ 413,   19, 3194]),\n",
              " array([  19, 3194,   77]),\n",
              " array([3194,   77,  121]),\n",
              " array([ 77, 121,  28]),\n",
              " array([121,  28, 343]),\n",
              " array([ 28, 343,  94]),\n",
              " array([343,  94,  15]),\n",
              " array([ 94,  15, 126]),\n",
              " array([ 15, 126, 876]),\n",
              " array([ 126,  876, 2495]),\n",
              " array([ 876, 2495,    2]),\n",
              " array([2495,    2,    1]),\n",
              " array([  2,   1, 248]),\n",
              " array([   1,  248, 4519]),\n",
              " array([ 248, 4519, 2081]),\n",
              " array([4519, 2081,   20]),\n",
              " array([2081,   20, 1788]),\n",
              " array([  20, 1788,   55]),\n",
              " array([1788,   55, 2496]),\n",
              " array([  55, 2496,    1]),\n",
              " array([2496,    1,   56]),\n",
              " array([ 1, 56, 62]),\n",
              " array([ 56,  62, 149]),\n",
              " array([  62,  149, 2082]),\n",
              " array([ 149, 2082,  171]),\n",
              " array([2082,  171,  830]),\n",
              " array([171, 830,   5]),\n",
              " array([830,   5,  13]),\n",
              " array([  5,  13, 126]),\n",
              " array([  13,  126, 4520]),\n",
              " array([ 126, 4520,   48]),\n",
              " array([4520,   48, 1566]),\n",
              " array([  48, 1566,    4]),\n",
              " array([1566,    4, 4521]),\n",
              " array([   4, 4521,   42]),\n",
              " array([4521,   42,   15]),\n",
              " array([ 42,  15, 464]),\n",
              " array([ 15, 464, 195]),\n",
              " array([464, 195,  34]),\n",
              " array([195,  34,  62]),\n",
              " array([  34,   62, 4522]),\n",
              " array([  62, 4522,  152]),\n",
              " array([4522,  152, 1016]),\n",
              " array([ 152, 1016,    5]),\n",
              " array([1016,    5,  765]),\n",
              " array([  5, 765,  18]),\n",
              " array([765,  18,  13]),\n",
              " array([ 18,  13, 263]),\n",
              " array([  13,  263, 2083]),\n",
              " array([ 263, 2083, 1017]),\n",
              " array([2083, 1017,  621]),\n",
              " array([1017,  621,    7]),\n",
              " array([621,   7,  71]),\n",
              " array([   7,   71, 1248]),\n",
              " array([  71, 1248,    7]),\n",
              " array([1248,    7,  289]),\n",
              " array([  7, 289, 150]),\n",
              " array([ 289,  150, 1567]),\n",
              " array([ 150, 1567,  320]),\n",
              " array([1567,  320,   13]),\n",
              " array([320,  13, 177]),\n",
              " array([  13,  177, 1018]),\n",
              " array([ 177, 1018,    2]),\n",
              " array([1018,    2, 4523]),\n",
              " array([   2, 4523,   28]),\n",
              " array([4523,   28,  441]),\n",
              " array([ 28, 441,   4]),\n",
              " array([441,   4, 441]),\n",
              " array([  4, 441, 211]),\n",
              " array([ 441,  211, 2497]),\n",
              " array([ 211, 2497,    2]),\n",
              " array([2497,    2, 4524]),\n",
              " array([   2, 4524,    1]),\n",
              " array([4524,    1, 4525]),\n",
              " array([   1, 4525,    5]),\n",
              " array([4525,    5,    1]),\n",
              " array([   5,    1, 1789]),\n",
              " array([   1, 1789,    2]),\n",
              " array([1789,    2,    1]),\n",
              " array([   2,    1, 1568]),\n",
              " array([   1, 1568, 1367]),\n",
              " array([1568, 1367,    5]),\n",
              " array([1367,    5,   13]),\n",
              " array([  5,  13, 126]),\n",
              " array([ 13, 126, 877]),\n",
              " array([126, 877, 463]),\n",
              " array([877, 463,  10]),\n",
              " array([463,  10,  12]),\n",
              " array([ 10,  12, 157]),\n",
              " array([ 12, 157,  17]),\n",
              " array([157,  17, 182]),\n",
              " array([ 17, 182, 878]),\n",
              " array([ 182,  878, 1790]),\n",
              " array([ 878, 1790,   49]),\n",
              " array([1790,   49,    1]),\n",
              " array([  49,    1, 1019]),\n",
              " array([   1, 1019,    5]),\n",
              " array([1019,    5,  344]),\n",
              " array([  5, 344,   2]),\n",
              " array([ 344,    2, 4526]),\n",
              " array([   2, 4526,   13]),\n",
              " array([4526,   13, 1020]),\n",
              " array([  13, 1020, 3195]),\n",
              " array([1020, 3195,    2]),\n",
              " array([3195,    2,  580]),\n",
              " array([   2,  580, 1569]),\n",
              " array([ 580, 1569,    5]),\n",
              " array([1569,    5, 1570]),\n",
              " array([   5, 1570,    7]),\n",
              " array([1570,    7,  879]),\n",
              " array([  7, 879,  53]),\n",
              " array([879,  53, 196]),\n",
              " array([  53,  196, 2498]),\n",
              " array([ 196, 2498,    2]),\n",
              " array([2498,    2, 1249]),\n",
              " array([   2, 1249,   55]),\n",
              " array([1249,   55,  196]),\n",
              " array([  55,  196, 2499]),\n",
              " array([ 196, 2499,   20]),\n",
              " array([2499,   20,   19]),\n",
              " array([20, 19, 41]),\n",
              " array([  19,   41, 2500]),\n",
              " array([  41, 2500,   17]),\n",
              " array([2500,   17, 3196]),\n",
              " array([  17, 3196,   49]),\n",
              " array([3196,   49,    1]),\n",
              " array([ 49,   1, 880]),\n",
              " array([  1, 880, 230]),\n",
              " array([880, 230,  28]),\n",
              " array([230,  28,  92]),\n",
              " array([28, 92,  4]),\n",
              " array([92,  4, 92]),\n",
              " array([ 4, 92,  3]),\n",
              " array([ 92,   3, 115]),\n",
              " array([  3, 115,  66]),\n",
              " array([ 115,   66, 1021]),\n",
              " array([  66, 1021,  540]),\n",
              " array([1021,  540,    5]),\n",
              " array([540,   5,  13]),\n",
              " array([   5,   13, 3197]),\n",
              " array([  13, 3197,    5]),\n",
              " array([3197,    5,   13]),\n",
              " array([   5,   13, 3198]),\n",
              " array([  13, 3198,    4]),\n",
              " array([3198,    4, 4527]),\n",
              " array([   4, 4527,    7]),\n",
              " array([4527,    7,    1]),\n",
              " array([  7,   1, 110]),\n",
              " array([  1, 110,   5]),\n",
              " array([110,   5,   1]),\n",
              " array([   5,    1, 4528]),\n",
              " array([   1, 4528, 1368]),\n",
              " array([4528, 1368,    5]),\n",
              " array([1368,    5,   13]),\n",
              " array([   5,   13, 1249]),\n",
              " array([  13, 1249,   55]),\n",
              " array([1249,   55,    5]),\n",
              " array([55,  5,  1]),\n",
              " array([  5,   1, 345]),\n",
              " array([   1,  345, 1791]),\n",
              " array([ 345, 1791,    5]),\n",
              " array([1791,    5,    1]),\n",
              " array([   5,    1, 4529]),\n",
              " array([   1, 4529, 4530]),\n",
              " array([4529, 4530,   21]),\n",
              " array([4530,   21, 4531]),\n",
              " array([  21, 4531,    2]),\n",
              " array([4531,    2,  581]),\n",
              " array([  2, 581,   5]),\n",
              " array([581,   5,   1]),\n",
              " array([   5,    1, 2501]),\n",
              " array([   1, 2501,   20]),\n",
              " array([2501,   20,   10]),\n",
              " array([20, 10, 19]),\n",
              " array([  10,   19, 3199]),\n",
              " array([  19, 3199,   33]),\n",
              " array([3199,   33, 4532]),\n",
              " array([  33, 4532,    2]),\n",
              " array([4532,    2, 4533]),\n",
              " array([   2, 4533,   22]),\n",
              " array([4533,   22,    1]),\n",
              " array([  22,    1, 2502]),\n",
              " array([   1, 2502,  368]),\n",
              " array([2502,  368,    5]),\n",
              " array([ 368,    5, 3200]),\n",
              " array([   5, 3200,  953]),\n",
              " array([3200,  953,  158]),\n",
              " array([953, 158, 831]),\n",
              " array([158, 831,   5]),\n",
              " array([831,   5,  13]),\n",
              " array([   5,   13, 4534]),\n",
              " array([  13, 4534,  119]),\n",
              " array([4534,  119,   20]),\n",
              " array([119,  20,   3]),\n",
              " array([  20,    3, 1022]),\n",
              " array([   3, 1022, 4535]),\n",
              " array([1022, 4535,   18]),\n",
              " array([4535,   18,   42]),\n",
              " array([18, 42,  1]),\n",
              " array([  42,    1, 4536]),\n",
              " array([   1, 4536,    5]),\n",
              " array([4536,    5,    1]),\n",
              " array([   5,    1, 2503]),\n",
              " array([   1, 2503, 1023]),\n",
              " array([2503, 1023,    3]),\n",
              " array([1023,    3,  218]),\n",
              " array([  3, 218,  63]),\n",
              " array([218,  63,   5]),\n",
              " array([63,  5, 15]),\n",
              " array([   5,   15, 2504]),\n",
              " array([  15, 2504,  184]),\n",
              " array([2504,  184,    2]),\n",
              " array([184,   2, 369]),\n",
              " array([  2, 369,  46]),\n",
              " array([369,  46, 113]),\n",
              " array([ 46, 113,   9]),\n",
              " array([113,   9,  12]),\n",
              " array([ 9, 12, 43]),\n",
              " array([12, 43,  1]),\n",
              " array([  43,    1, 3201]),\n",
              " array([   1, 3201,    5]),\n",
              " array([3201,    5, 1571]),\n",
              " array([   5, 1571, 4537]),\n",
              " array([1571, 4537,    3]),\n",
              " array([4537,    3,   12]),\n",
              " array([  3,  12, 954]),\n",
              " array([ 12, 954,  28]),\n",
              " array([954,  28,   6]),\n",
              " array([  28,    6, 1128]),\n",
              " array([   6, 1128,    4]),\n",
              " array([1128,    4,    6]),\n",
              " array([   4,    6, 1250]),\n",
              " array([   6, 1250,   22]),\n",
              " array([1250,   22,    3]),\n",
              " array([22,  3, 19]),\n",
              " array([ 3, 19, 67]),\n",
              " array([ 19,  67, 315]),\n",
              " array([ 67, 315,   4]),\n",
              " array([ 315,    4, 2505]),\n",
              " array([   4, 2505,  881]),\n",
              " array([2505,  881,   54]),\n",
              " array([881,  54,  15]),\n",
              " array([ 54,  15, 111]),\n",
              " array([ 15, 111, 442]),\n",
              " array([111, 442,  24]),\n",
              " array([442,  24, 137]),\n",
              " array([ 24, 137, 289]),\n",
              " array([137, 289, 150]),\n",
              " array([289, 150,  17]),\n",
              " array([150,  17,   3]),\n",
              " array([ 17,   3, 290]),\n",
              " array([  3, 290,   1]),\n",
              " array([290,   1,  75]),\n",
              " array([   1,   75, 1572]),\n",
              " array([  75, 1572,   97]),\n",
              " array([1572,   97,   20]),\n",
              " array([97, 20, 87]),\n",
              " array([ 20,  87, 215]),\n",
              " array([ 87, 215,  26]),\n",
              " array([ 215,   26, 2084]),\n",
              " array([  26, 2084,    7]),\n",
              " array([2084,    7,   15]),\n",
              " array([  7,  15, 216]),\n",
              " array([ 15, 216,  18]),\n",
              " array([216,  18,  15]),\n",
              " array([  18,   15, 3202]),\n",
              " array([  15, 3202,    2]),\n",
              " array([3202,    2,   18]),\n",
              " array([ 2, 18,  1]),\n",
              " array([ 18,   1, 295]),\n",
              " array([   1,  295, 1792]),\n",
              " array([ 295, 1792,    5]),\n",
              " array([1792,    5,    1]),\n",
              " array([   5,    1, 1019]),\n",
              " array([   1, 1019,    7]),\n",
              " array([1019,    7, 2506]),\n",
              " array([   7, 2506,    3]),\n",
              " array([2506,    3,   12]),\n",
              " array([   3,   12, 1024]),\n",
              " array([  12, 1024,   18]),\n",
              " array([1024,   18,    6]),\n",
              " array([ 18,   6, 877]),\n",
              " array([   6,  877, 1573]),\n",
              " array([ 877, 1573,    4]),\n",
              " array([1573,    4,   68]),\n",
              " array([ 4, 68, 34]),\n",
              " array([ 68,  34, 188]),\n",
              " array([ 34, 188,   2]),\n",
              " array([188,   2,   4]),\n",
              " array([ 2,  4, 82]),\n",
              " array([ 4, 82, 99]),\n",
              " array([82, 99, 10]),\n",
              " array([99, 10, 12]),\n",
              " array([  10,   12, 3203]),\n",
              " array([  12, 3203,   13]),\n",
              " array([3203,   13,  580]),\n",
              " array([  13,  580, 1569]),\n",
              " array([ 580, 1569,   13]),\n",
              " array([1569,   13,  378]),\n",
              " array([ 13, 378,  48]),\n",
              " array([ 378,   48, 3204]),\n",
              " array([  48, 3204,  682]),\n",
              " array([3204,  682,    2]),\n",
              " array([682,   2, 183]),\n",
              " array([  2, 183,  17]),\n",
              " array([183,  17,   3]),\n",
              " array([ 17,   3, 235]),\n",
              " array([  3, 235,  55]),\n",
              " array([235,  55,   3]),\n",
              " array([ 55,   3, 138]),\n",
              " array([  3, 138,  13]),\n",
              " array([138,  13, 882]),\n",
              " array([  13,  882, 1251]),\n",
              " array([ 882, 1251,  582]),\n",
              " array([1251,  582,  766]),\n",
              " array([582, 766, 683]),\n",
              " array([766, 683,   7]),\n",
              " array([683,   7,   6]),\n",
              " array([  7,   6, 295]),\n",
              " array([   6,  295, 4538]),\n",
              " array([ 295, 4538,  231]),\n",
              " array([4538,  231,    1]),\n",
              " array([ 231,    1, 2085]),\n",
              " array([   1, 2085,   10]),\n",
              " array([2085,   10,   12]),\n",
              " array([  10,   12, 2507]),\n",
              " array([  12, 2507,    1]),\n",
              " array([2507,    1,   81]),\n",
              " array([  1,  81, 767]),\n",
              " array([  81,  767, 2086]),\n",
              " array([ 767, 2086,   18]),\n",
              " array([2086,   18,   13]),\n",
              " array([ 18,  13, 189]),\n",
              " array([  13,  189, 1129]),\n",
              " array([ 189, 1129,   32]),\n",
              " array([1129,   32,   13]),\n",
              " array([  32,   13, 1574]),\n",
              " array([  13, 1574,    2]),\n",
              " array([1574,    2,   13]),\n",
              " array([  2,  13, 172]),\n",
              " array([  13,  172, 4539]),\n",
              " array([ 172, 4539,  241]),\n",
              " array([4539,  241,   35]),\n",
              " array([241,  35,   4]),\n",
              " array([35,  4, 24]),\n",
              " array([ 4, 24, 62]),\n",
              " array([ 24,  62, 218]),\n",
              " array([ 62, 218,  13]),\n",
              " array([218,  13, 152]),\n",
              " array([  13,  152, 2508]),\n",
              " array([ 152, 2508,    2]),\n",
              " array([2508,    2, 1252]),\n",
              " array([   2, 1252,   13]),\n",
              " array([1252,   13, 3205]),\n",
              " array([  13, 3205,    2]),\n",
              " array([3205,    2,  396]),\n",
              " array([  2, 396, 242]),\n",
              " array([396, 242, 131]),\n",
              " array([242, 131, 126]),\n",
              " array([131, 126, 321]),\n",
              " array([126, 321,  10]),\n",
              " array([321,  10,  12]),\n",
              " array([10, 12, 21]),\n",
              " array([ 12,  21, 253]),\n",
              " array([ 21, 253, 188]),\n",
              " array([253, 188,  10]),\n",
              " array([188,  10,  19]),\n",
              " array([  10,   19, 2087]),\n",
              " array([  19, 2087,   53]),\n",
              " array([2087,   53,    5]),\n",
              " array([53,  5, 13]),\n",
              " array([   5,   13, 1789]),\n",
              " array([  13, 1789, 4540]),\n",
              " array([1789, 4540, 3206]),\n",
              " array([4540, 3206,    2]),\n",
              " array([3206,    2,   12]),\n",
              " array([  2,  12, 955]),\n",
              " array([ 12, 955,  32]),\n",
              " array([955,  32,   1]),\n",
              " array([  32,    1, 1575]),\n",
              " array([   1, 1575,    5]),\n",
              " array([1575,    5,   66]),\n",
              " array([  5,  66, 370]),\n",
              " array([ 66, 370, 541]),\n",
              " array([370, 541,   3]),\n",
              " array([ 541,    3, 2088]),\n",
              " array([   3, 2088,    1]),\n",
              " array([2088,    1,  443]),\n",
              " array([  1, 443,   2]),\n",
              " array([443,   2,  12]),\n",
              " array([  2,  12, 542]),\n",
              " array([ 12, 542,  55]),\n",
              " array([542,  55,   4]),\n",
              " array([55,  4,  1]),\n",
              " array([  4,   1, 684]),\n",
              " array([  1, 684,  20]),\n",
              " array([684,  20,  19]),\n",
              " array([  20,   19, 2089]),\n",
              " array([  19, 2089,   41]),\n",
              " array([2089,   41,    7]),\n",
              " array([ 41,   7, 346]),\n",
              " array([  7, 346,  15]),\n",
              " array([346,  15, 126]),\n",
              " array([ 15, 126,  13]),\n",
              " array([126,  13, 396]),\n",
              " array([ 13, 396,  12]),\n",
              " array([396,  12,  25]),\n",
              " array([  12,   25, 4541]),\n",
              " array([  25, 4541,    9]),\n",
              " array([4541,    9, 1563]),\n",
              " array([   9, 1563,   12]),\n",
              " array([1563,   12,   23]),\n",
              " array([12, 23, 10]),\n",
              " array([23, 10, 12]),\n",
              " array([ 10,  12, 622]),\n",
              " array([ 12, 622,   3]),\n",
              " array([622,   3,  80]),\n",
              " array([ 3, 80,  4]),\n",
              " array([80,  4, 68]),\n",
              " array([ 4, 68, 24]),\n",
              " array([68, 24, 18]),\n",
              " array([ 24,  18, 243]),\n",
              " array([ 18, 243,   6]),\n",
              " array([243,   6, 296]),\n",
              " array([  6, 296, 832]),\n",
              " array([296, 832,  23]),\n",
              " array([832,  23,  18]),\n",
              " array([23, 18,  6]),\n",
              " array([ 18,   6, 685]),\n",
              " array([  6, 685, 465]),\n",
              " array([685, 465,  10]),\n",
              " array([ 465,   10, 2090]),\n",
              " array([  10, 2090,   24]),\n",
              " array([2090,   24,    4]),\n",
              " array([24,  4, 51]),\n",
              " array([  4,  51, 727]),\n",
              " array([ 51, 727, 379]),\n",
              " array([727, 379, 312]),\n",
              " array([379, 312,  13]),\n",
              " array([312,  13, 110]),\n",
              " array([ 13, 110,   5]),\n",
              " array([ 110,    5, 1793]),\n",
              " array([   5, 1793,    2]),\n",
              " array([1793,    2, 1576]),\n",
              " array([   2, 1576,    6]),\n",
              " array([1576,    6, 4542]),\n",
              " array([   6, 4542,  110]),\n",
              " array([4542,  110,    2]),\n",
              " array([110,   2,   6]),\n",
              " array([   2,    6, 4543]),\n",
              " array([   6, 4543,    7]),\n",
              " array([4543,    7,    1]),\n",
              " array([  7,   1, 347]),\n",
              " array([  1, 347,  47]),\n",
              " array([347,  47,  10]),\n",
              " array([ 47,  10, 322]),\n",
              " array([ 10, 322,  86]),\n",
              " array([322,  86,   1]),\n",
              " array([ 86,   1, 264]),\n",
              " array([  1, 264,   2]),\n",
              " array([264,   2, 235]),\n",
              " array([  2, 235,  24]),\n",
              " array([235,  24,  78]),\n",
              " array([24, 78,  7]),\n",
              " array([78,  7, 13]),\n",
              " array([  7,  13, 345]),\n",
              " array([  13,  345, 2509]),\n",
              " array([ 345, 2509,  543]),\n",
              " array([2509,  543, 4544]),\n",
              " array([ 543, 4544, 3207]),\n",
              " array([4544, 3207,   11]),\n",
              " array([3207,   11,   10]),\n",
              " array([ 11,  10, 199]),\n",
              " array([ 10, 199,   3]),\n",
              " array([199,   3,  80]),\n",
              " array([  3,  80, 153]),\n",
              " array([ 80, 153,   8]),\n",
              " array([153,   8,  11]),\n",
              " array([ 8, 11, 16]),\n",
              " array([ 11,  16, 192]),\n",
              " array([ 16, 192,  43]),\n",
              " array([192,  43, 348]),\n",
              " array([ 43, 348,   2]),\n",
              " array([348,   2,   6]),\n",
              " array([  2,   6, 207]),\n",
              " array([   6,  207, 1253]),\n",
              " array([ 207, 1253,  298]),\n",
              " array([1253,  298,    3]),\n",
              " array([298,   3, 138]),\n",
              " array([  3, 138,  11]),\n",
              " array([138,  11, 348]),\n",
              " array([ 11, 348,   3]),\n",
              " array([348,   3, 220]),\n",
              " array([  3, 220, 205]),\n",
              " array([220, 205,   3]),\n",
              " array([205,   3,  70]),\n",
              " array([ 3, 70, 16]),\n",
              " array([ 70,  16, 162]),\n",
              " array([ 16, 162,   6]),\n",
              " array([162,   6,  63]),\n",
              " array([ 6, 63, 79]),\n",
              " array([ 63,  79, 105]),\n",
              " array([ 79, 105,   6]),\n",
              " array([ 105,    6, 2091]),\n",
              " array([   6, 2091,   79]),\n",
              " array([2091,   79,    3]),\n",
              " array([ 79,   3, 728]),\n",
              " array([  3, 728, 153]),\n",
              " array([728, 153,   2]),\n",
              " array([153,   2,   7]),\n",
              " array([  2,   7, 881]),\n",
              " array([  7, 881, 188]),\n",
              " array([881, 188,   3]),\n",
              " array([188,   3, 583]),\n",
              " array([  3, 583,  11]),\n",
              " array([583,  11,  91]),\n",
              " array([11, 91, 25]),\n",
              " array([ 91,  25, 133]),\n",
              " array([ 25, 133,  24]),\n",
              " array([133,  24,   8]),\n",
              " array([24,  8, 11]),\n",
              " array([   8,   11, 4545]),\n",
              " array([  11, 4545,    4]),\n",
              " array([4545,    4,  127]),\n",
              " array([  4, 127,  60]),\n",
              " array([ 127,   60, 3208]),\n",
              " array([  60, 3208,   47]),\n",
              " array([3208,   47,   99]),\n",
              " array([47, 99, 59]),\n",
              " array([99, 59, 11]),\n",
              " array([59, 11, 82]),\n",
              " array([11, 82,  3]),\n",
              " array([82,  3, 68]),\n",
              " array([ 3, 68,  9]),\n",
              " array([68,  9,  3]),\n",
              " array([  9,   3, 833]),\n",
              " array([  3, 833,   9]),\n",
              " array([833,   9,  99]),\n",
              " array([ 9, 99, 59]),\n",
              " array([99, 59,  3]),\n",
              " array([59,  3, 82]),\n",
              " array([ 3, 82,  8]),\n",
              " array([82,  8, 11]),\n",
              " array([ 8, 11, 16]),\n",
              " array([11, 16, 41]),\n",
              " array([  16,   41, 1254]),\n",
              " array([  41, 1254,  282]),\n",
              " array([1254,  282,   39]),\n",
              " array([ 282,   39, 2092]),\n",
              " array([  39, 2092, 1366]),\n",
              " array([2092, 1366,    2]),\n",
              " array([1366,    2,    8]),\n",
              " array([ 2,  8, 11]),\n",
              " array([ 8, 11, 16]),\n",
              " array([11, 16,  6]),\n",
              " array([ 16,   6, 139]),\n",
              " array([   6,  139, 4546]),\n",
              " array([ 139, 4546,    2]),\n",
              " array([4546,    2, 4547]),\n",
              " array([   2, 4547, 1577]),\n",
              " array([4547, 1577,  478]),\n",
              " array([1577,  478,   15]),\n",
              " array([478,  15, 227]),\n",
              " array([ 15, 227,  34]),\n",
              " array([227,  34,  31]),\n",
              " array([34, 31,  3]),\n",
              " array([31,  3, 30]),\n",
              " array([ 3, 30, 14]),\n",
              " array([ 30,  14, 151]),\n",
              " array([ 14, 151, 108]),\n",
              " array([151, 108,  11]),\n",
              " array([108,  11,  52]),\n",
              " array([ 11,  52, 283]),\n",
              " array([ 52, 283,  16]),\n",
              " array([283,  16,  41]),\n",
              " array([  16,   41, 1794]),\n",
              " array([  41, 1794,   19]),\n",
              " array([1794,   19,   11]),\n",
              " array([ 19,  11, 883]),\n",
              " array([ 11, 883,   6]),\n",
              " array([883,   6, 165]),\n",
              " array([   6,  165, 4548]),\n",
              " array([ 165, 4548,  397]),\n",
              " array([4548,  397,    9]),\n",
              " array([397,   9,  14]),\n",
              " array([  9,  14, 380]),\n",
              " array([ 14, 380,   8]),\n",
              " array([380,   8,   3]),\n",
              " array([ 8,  3, 19]),\n",
              " array([ 3, 19,  6]),\n",
              " array([ 19,   6, 323]),\n",
              " array([  6, 323, 729]),\n",
              " array([323, 729,  43]),\n",
              " array([ 729,   43, 3209]),\n",
              " array([  43, 3209,    2]),\n",
              " array([3209,    2,   95]),\n",
              " array([  2,  95, 248]),\n",
              " array([ 95, 248,   7]),\n",
              " array([248,   7,   6]),\n",
              " array([  7,   6, 650]),\n",
              " array([   6,  650, 4549]),\n",
              " array([ 650, 4549,   23]),\n",
              " array([4549,   23,   17]),\n",
              " array([23, 17,  3]),\n",
              " array([17,  3, 16]),\n",
              " array([   3,   16, 1795]),\n",
              " array([  16, 1795,   15]),\n",
              " array([1795,   15,  503]),\n",
              " array([ 15, 503,   3]),\n",
              " array([503,   3, 884]),\n",
              " array([  3, 884, 381]),\n",
              " array([884, 381,  99]),\n",
              " array([381,  99,  11]),\n",
              " array([ 99,  11, 833]),\n",
              " array([ 11, 833,   9]),\n",
              " array([833,   9,  17]),\n",
              " array([ 9, 17,  4]),\n",
              " array([ 17,   4, 520]),\n",
              " array([   4,  520, 4550]),\n",
              " array([ 520, 4550,   37]),\n",
              " array([4550,   37,   14]),\n",
              " array([  37,   14, 4551]),\n",
              " array([  14, 4551,    2]),\n",
              " array([4551,    2,   15]),\n",
              " array([  2,  15, 228]),\n",
              " array([ 15, 228,  58]),\n",
              " array([228,  58, 349]),\n",
              " array([ 58, 349,  36]),\n",
              " array([ 349,   36, 1255]),\n",
              " array([  36, 1255,   23]),\n",
              " array([1255,   23,   29]),\n",
              " array([ 23,  29, 188]),\n",
              " array([ 29, 188,   3]),\n",
              " array([ 188,    3, 1578]),\n",
              " array([   3, 1578,    4]),\n",
              " array([1578,    4,   68]),\n",
              " array([ 4, 68, 99]),\n",
              " array([68, 99, 11]),\n",
              " array([ 99,  11, 253]),\n",
              " array([ 11, 253,   9]),\n",
              " array([253,   9,  53]),\n",
              " array([ 9, 53, 10]),\n",
              " array([  53,   10, 1369]),\n",
              " array([  10, 1369,    4]),\n",
              " array([1369,    4,  171]),\n",
              " array([  4, 171,   2]),\n",
              " array([ 171,    2, 2510]),\n",
              " array([   2, 2510,   13]),\n",
              " array([2510,   13,  144]),\n",
              " array([  13,  144, 1130]),\n",
              " array([ 144, 1130,  172]),\n",
              " array([1130,  172,  324]),\n",
              " array([172, 324,   9]),\n",
              " array([324,   9,  14]),\n",
              " array([   9,   14, 4552]),\n",
              " array([  14, 4552,  623]),\n",
              " array([4552,  623,   31]),\n",
              " array([623,  31,  10]),\n",
              " array([31, 10, 15]),\n",
              " array([ 10,  15, 143]),\n",
              " array([ 15, 143, 133]),\n",
              " array([143, 133,  24]),\n",
              " array([133,  24,   8]),\n",
              " array([24,  8, 43]),\n",
              " array([ 8, 43,  1]),\n",
              " array([ 43,   1, 834]),\n",
              " array([  1, 834,   5]),\n",
              " array([834,   5,  40]),\n",
              " array([  5,  40, 136]),\n",
              " array([  40,  136, 4553]),\n",
              " array([ 136, 4553,  105]),\n",
              " array([4553,  105,  112]),\n",
              " array([105, 112,   1]),\n",
              " array([ 112,    1, 4554]),\n",
              " array([   1, 4554, 2511]),\n",
              " array([4554, 2511,    9]),\n",
              " array([2511,    9,    1]),\n",
              " array([   9,    1, 1579]),\n",
              " array([   1, 1579,   14]),\n",
              " array([1579,   14, 3210]),\n",
              " array([  14, 3210,   49]),\n",
              " array([3210,   49,  382]),\n",
              " array([ 49, 382, 624]),\n",
              " array([ 382,  624, 2512]),\n",
              " array([ 624, 2512, 3211]),\n",
              " array([2512, 3211, 1796]),\n",
              " array([3211, 1796,   73]),\n",
              " array([1796,   73,   16]),\n",
              " array([73, 16, 41]),\n",
              " array([ 16,  41, 730]),\n",
              " array([ 41, 730,  49]),\n",
              " array([730,  49, 584]),\n",
              " array([ 49, 584,  62]),\n",
              " array([584,  62,  58]),\n",
              " array([62, 58, 39]),\n",
              " array([  58,   39, 2513]),\n",
              " ...]"
            ]
          },
          "metadata": {},
          "execution_count": 18
        }
      ]
    },
    {
      "cell_type": "code",
      "source": [
        "X = np.array(X)\n",
        "y = np.array(y)"
      ],
      "metadata": {
        "id": "YPGD7w1A6-BG"
      },
      "execution_count": 19,
      "outputs": []
    },
    {
      "cell_type": "code",
      "source": [
        "type(X)"
      ],
      "metadata": {
        "colab": {
          "base_uri": "https://localhost:8080/"
        },
        "id": "1TKdYSf_7GZe",
        "outputId": "fb2c597d-d8d5-4882-a834-c40669e2ec2d"
      },
      "execution_count": 20,
      "outputs": [
        {
          "output_type": "execute_result",
          "data": {
            "text/plain": [
              "numpy.ndarray"
            ]
          },
          "metadata": {},
          "execution_count": 20
        }
      ]
    },
    {
      "cell_type": "code",
      "source": [
        "X.shape"
      ],
      "metadata": {
        "colab": {
          "base_uri": "https://localhost:8080/"
        },
        "id": "uRCYekO17HTU",
        "outputId": "46dd7c1f-982c-4f2a-ff46-1aaccc366bc7"
      },
      "execution_count": 21,
      "outputs": [
        {
          "output_type": "execute_result",
          "data": {
            "text/plain": [
              "(105876, 3)"
            ]
          },
          "metadata": {},
          "execution_count": 21
        }
      ]
    },
    {
      "cell_type": "code",
      "source": [
        "y"
      ],
      "metadata": {
        "colab": {
          "base_uri": "https://localhost:8080/"
        },
        "id": "1R9Kln8s7LTj",
        "outputId": "796ff684-eea6-4b16-e455-b775662cb9c9"
      },
      "execution_count": 22,
      "outputs": [
        {
          "output_type": "execute_result",
          "data": {
            "text/plain": [
              "array([ 129,   34,  647, ..., 8199, 3187, 3186])"
            ]
          },
          "metadata": {},
          "execution_count": 22
        }
      ]
    },
    {
      "cell_type": "code",
      "source": [
        "y.shape"
      ],
      "metadata": {
        "colab": {
          "base_uri": "https://localhost:8080/"
        },
        "id": "Bzhv_X2_7RRl",
        "outputId": "b069684f-f5c4-4863-d085-6d3f38fb07bf"
      },
      "execution_count": 23,
      "outputs": [
        {
          "output_type": "execute_result",
          "data": {
            "text/plain": [
              "(105876,)"
            ]
          },
          "metadata": {},
          "execution_count": 23
        }
      ]
    },
    {
      "cell_type": "code",
      "source": [
        "y = to_categorical(y,num_classes = vocab_size)"
      ],
      "metadata": {
        "id": "cqEMvPXE7ooG"
      },
      "execution_count": 24,
      "outputs": []
    },
    {
      "cell_type": "code",
      "source": [
        "y[:5]"
      ],
      "metadata": {
        "colab": {
          "base_uri": "https://localhost:8080/"
        },
        "id": "g-EzqiBH78Ta",
        "outputId": "f13f6da2-7322-4ff6-f67c-aabf9f235624"
      },
      "execution_count": 25,
      "outputs": [
        {
          "output_type": "execute_result",
          "data": {
            "text/plain": [
              "array([[0., 0., 0., ..., 0., 0., 0.],\n",
              "       [0., 0., 0., ..., 0., 0., 0.],\n",
              "       [0., 0., 0., ..., 0., 0., 0.],\n",
              "       [0., 0., 0., ..., 0., 0., 0.],\n",
              "       [0., 0., 0., ..., 0., 0., 0.]])"
            ]
          },
          "metadata": {},
          "execution_count": 25
        }
      ]
    },
    {
      "cell_type": "code",
      "source": [
        "model = Sequential()\n",
        "model.add(Embedding(vocab_size, 10, input_length = 3))\n",
        "model.add(LSTM(1000,return_sequences=True))\n",
        "model.add(LSTM(1000))\n",
        "model.add(Dense(1000, activation='relu'))\n",
        "model.add(Dense(vocab_size, activation='softmax'))\n"
      ],
      "metadata": {
        "colab": {
          "base_uri": "https://localhost:8080/"
        },
        "id": "ctEMBvgE7-bI",
        "outputId": "8b1fe4a6-9703-4bce-ac81-5576778b8f07"
      },
      "execution_count": 26,
      "outputs": [
        {
          "output_type": "stream",
          "name": "stderr",
          "text": [
            "/usr/local/lib/python3.10/dist-packages/keras/src/layers/core/embedding.py:90: UserWarning: Argument `input_length` is deprecated. Just remove it.\n",
            "  warnings.warn(\n"
          ]
        }
      ]
    },
    {
      "cell_type": "code",
      "source": [
        "model.summary()"
      ],
      "metadata": {
        "colab": {
          "base_uri": "https://localhost:8080/",
          "height": 289
        },
        "id": "q1pA8GhU9Xja",
        "outputId": "cb1098b6-d719-460c-cb39-abba2aac37f9"
      },
      "execution_count": 27,
      "outputs": [
        {
          "output_type": "display_data",
          "data": {
            "text/plain": [
              "\u001b[1mModel: \"sequential\"\u001b[0m\n"
            ],
            "text/html": [
              "<pre style=\"white-space:pre;overflow-x:auto;line-height:normal;font-family:Menlo,'DejaVu Sans Mono',consolas,'Courier New',monospace\"><span style=\"font-weight: bold\">Model: \"sequential\"</span>\n",
              "</pre>\n"
            ]
          },
          "metadata": {}
        },
        {
          "output_type": "display_data",
          "data": {
            "text/plain": [
              "┏━━━━━━━━━━━━━━━━━━━━━━━━━━━━━━━━━━━━━━┳━━━━━━━━━━━━━━━━━━━━━━━━━━━━━┳━━━━━━━━━━━━━━━━━┓\n",
              "┃\u001b[1m \u001b[0m\u001b[1mLayer (type)                        \u001b[0m\u001b[1m \u001b[0m┃\u001b[1m \u001b[0m\u001b[1mOutput Shape               \u001b[0m\u001b[1m \u001b[0m┃\u001b[1m \u001b[0m\u001b[1m        Param #\u001b[0m\u001b[1m \u001b[0m┃\n",
              "┡━━━━━━━━━━━━━━━━━━━━━━━━━━━━━━━━━━━━━━╇━━━━━━━━━━━━━━━━━━━━━━━━━━━━━╇━━━━━━━━━━━━━━━━━┩\n",
              "│ embedding (\u001b[38;5;33mEmbedding\u001b[0m)                │ ?                           │     \u001b[38;5;34m0\u001b[0m (unbuilt) │\n",
              "├──────────────────────────────────────┼─────────────────────────────┼─────────────────┤\n",
              "│ lstm (\u001b[38;5;33mLSTM\u001b[0m)                          │ ?                           │     \u001b[38;5;34m0\u001b[0m (unbuilt) │\n",
              "├──────────────────────────────────────┼─────────────────────────────┼─────────────────┤\n",
              "│ lstm_1 (\u001b[38;5;33mLSTM\u001b[0m)                        │ ?                           │     \u001b[38;5;34m0\u001b[0m (unbuilt) │\n",
              "├──────────────────────────────────────┼─────────────────────────────┼─────────────────┤\n",
              "│ dense (\u001b[38;5;33mDense\u001b[0m)                        │ ?                           │     \u001b[38;5;34m0\u001b[0m (unbuilt) │\n",
              "├──────────────────────────────────────┼─────────────────────────────┼─────────────────┤\n",
              "│ dense_1 (\u001b[38;5;33mDense\u001b[0m)                      │ ?                           │     \u001b[38;5;34m0\u001b[0m (unbuilt) │\n",
              "└──────────────────────────────────────┴─────────────────────────────┴─────────────────┘\n"
            ],
            "text/html": [
              "<pre style=\"white-space:pre;overflow-x:auto;line-height:normal;font-family:Menlo,'DejaVu Sans Mono',consolas,'Courier New',monospace\">┏━━━━━━━━━━━━━━━━━━━━━━━━━━━━━━━━━━━━━━┳━━━━━━━━━━━━━━━━━━━━━━━━━━━━━┳━━━━━━━━━━━━━━━━━┓\n",
              "┃<span style=\"font-weight: bold\"> Layer (type)                         </span>┃<span style=\"font-weight: bold\"> Output Shape                </span>┃<span style=\"font-weight: bold\">         Param # </span>┃\n",
              "┡━━━━━━━━━━━━━━━━━━━━━━━━━━━━━━━━━━━━━━╇━━━━━━━━━━━━━━━━━━━━━━━━━━━━━╇━━━━━━━━━━━━━━━━━┩\n",
              "│ embedding (<span style=\"color: #0087ff; text-decoration-color: #0087ff\">Embedding</span>)                │ ?                           │     <span style=\"color: #00af00; text-decoration-color: #00af00\">0</span> (unbuilt) │\n",
              "├──────────────────────────────────────┼─────────────────────────────┼─────────────────┤\n",
              "│ lstm (<span style=\"color: #0087ff; text-decoration-color: #0087ff\">LSTM</span>)                          │ ?                           │     <span style=\"color: #00af00; text-decoration-color: #00af00\">0</span> (unbuilt) │\n",
              "├──────────────────────────────────────┼─────────────────────────────┼─────────────────┤\n",
              "│ lstm_1 (<span style=\"color: #0087ff; text-decoration-color: #0087ff\">LSTM</span>)                        │ ?                           │     <span style=\"color: #00af00; text-decoration-color: #00af00\">0</span> (unbuilt) │\n",
              "├──────────────────────────────────────┼─────────────────────────────┼─────────────────┤\n",
              "│ dense (<span style=\"color: #0087ff; text-decoration-color: #0087ff\">Dense</span>)                        │ ?                           │     <span style=\"color: #00af00; text-decoration-color: #00af00\">0</span> (unbuilt) │\n",
              "├──────────────────────────────────────┼─────────────────────────────┼─────────────────┤\n",
              "│ dense_1 (<span style=\"color: #0087ff; text-decoration-color: #0087ff\">Dense</span>)                      │ ?                           │     <span style=\"color: #00af00; text-decoration-color: #00af00\">0</span> (unbuilt) │\n",
              "└──────────────────────────────────────┴─────────────────────────────┴─────────────────┘\n",
              "</pre>\n"
            ]
          },
          "metadata": {}
        },
        {
          "output_type": "display_data",
          "data": {
            "text/plain": [
              "\u001b[1m Total params: \u001b[0m\u001b[38;5;34m0\u001b[0m (0.00 B)\n"
            ],
            "text/html": [
              "<pre style=\"white-space:pre;overflow-x:auto;line-height:normal;font-family:Menlo,'DejaVu Sans Mono',consolas,'Courier New',monospace\"><span style=\"font-weight: bold\"> Total params: </span><span style=\"color: #00af00; text-decoration-color: #00af00\">0</span> (0.00 B)\n",
              "</pre>\n"
            ]
          },
          "metadata": {}
        },
        {
          "output_type": "display_data",
          "data": {
            "text/plain": [
              "\u001b[1m Trainable params: \u001b[0m\u001b[38;5;34m0\u001b[0m (0.00 B)\n"
            ],
            "text/html": [
              "<pre style=\"white-space:pre;overflow-x:auto;line-height:normal;font-family:Menlo,'DejaVu Sans Mono',consolas,'Courier New',monospace\"><span style=\"font-weight: bold\"> Trainable params: </span><span style=\"color: #00af00; text-decoration-color: #00af00\">0</span> (0.00 B)\n",
              "</pre>\n"
            ]
          },
          "metadata": {}
        },
        {
          "output_type": "display_data",
          "data": {
            "text/plain": [
              "\u001b[1m Non-trainable params: \u001b[0m\u001b[38;5;34m0\u001b[0m (0.00 B)\n"
            ],
            "text/html": [
              "<pre style=\"white-space:pre;overflow-x:auto;line-height:normal;font-family:Menlo,'DejaVu Sans Mono',consolas,'Courier New',monospace\"><span style=\"font-weight: bold\"> Non-trainable params: </span><span style=\"color: #00af00; text-decoration-color: #00af00\">0</span> (0.00 B)\n",
              "</pre>\n"
            ]
          },
          "metadata": {}
        }
      ]
    },
    {
      "cell_type": "code",
      "source": [
        "checkpoint = ModelCheckpoint(\"next_word.keras\",monitor='loss',verbose = 1, save_best_only=True)"
      ],
      "metadata": {
        "id": "uVNZpg6c9bQ3",
        "collapsed": true
      },
      "execution_count": 28,
      "outputs": []
    },
    {
      "cell_type": "code",
      "source": [
        "model.compile(Adam(learning_rate=0.001),loss='categorical_crossentropy')"
      ],
      "metadata": {
        "id": "PMXoHpar_C4P"
      },
      "execution_count": 29,
      "outputs": []
    },
    {
      "cell_type": "code",
      "source": [
        "model.fit(X,y,epochs = 70,batch_size=64,callbacks=[checkpoint])"
      ],
      "metadata": {
        "colab": {
          "base_uri": "https://localhost:8080/"
        },
        "id": "-aaA_GTH_Kcw",
        "outputId": "03dff1c8-f161-43aa-f3da-4bf24b7447f1"
      },
      "execution_count": null,
      "outputs": [
        {
          "output_type": "stream",
          "name": "stdout",
          "text": [
            "Epoch 1/70\n",
            "\u001b[1m1654/1655\u001b[0m \u001b[32m━━━━━━━━━━━━━━━━━━━\u001b[0m\u001b[37m━\u001b[0m \u001b[1m0s\u001b[0m 23ms/step - loss: 6.6453\n",
            "Epoch 1: loss improved from inf to 6.33241, saving model to next_word.keras\n",
            "\u001b[1m1655/1655\u001b[0m \u001b[32m━━━━━━━━━━━━━━━━━━━━\u001b[0m\u001b[37m\u001b[0m \u001b[1m51s\u001b[0m 24ms/step - loss: 6.6449\n",
            "Epoch 2/70\n",
            "\u001b[1m1654/1655\u001b[0m \u001b[32m━━━━━━━━━━━━━━━━━━━\u001b[0m\u001b[37m━\u001b[0m \u001b[1m0s\u001b[0m 23ms/step - loss: 5.7936\n",
            "Epoch 2: loss improved from 6.33241 to 5.74993, saving model to next_word.keras\n",
            "\u001b[1m1655/1655\u001b[0m \u001b[32m━━━━━━━━━━━━━━━━━━━━\u001b[0m\u001b[37m\u001b[0m \u001b[1m84s\u001b[0m 28ms/step - loss: 5.7935\n",
            "Epoch 3/70\n",
            "\u001b[1m1653/1655\u001b[0m \u001b[32m━━━━━━━━━━━━━━━━━━━\u001b[0m\u001b[37m━\u001b[0m \u001b[1m0s\u001b[0m 23ms/step - loss: 5.4400\n",
            "Epoch 3: loss improved from 5.74993 to 5.43672, saving model to next_word.keras\n",
            "\u001b[1m1655/1655\u001b[0m \u001b[32m━━━━━━━━━━━━━━━━━━━━\u001b[0m\u001b[37m\u001b[0m \u001b[1m82s\u001b[0m 28ms/step - loss: 5.4400\n",
            "Epoch 4/70\n",
            "\u001b[1m1655/1655\u001b[0m \u001b[32m━━━━━━━━━━━━━━━━━━━━\u001b[0m\u001b[37m\u001b[0m \u001b[1m0s\u001b[0m 24ms/step - loss: 5.1876\n",
            "Epoch 4: loss improved from 5.43672 to 5.18230, saving model to next_word.keras\n",
            "\u001b[1m1655/1655\u001b[0m \u001b[32m━━━━━━━━━━━━━━━━━━━━\u001b[0m\u001b[37m\u001b[0m \u001b[1m82s\u001b[0m 28ms/step - loss: 5.1876\n",
            "Epoch 5/70\n",
            "\u001b[1m1655/1655\u001b[0m \u001b[32m━━━━━━━━━━━━━━━━━━━━\u001b[0m\u001b[37m\u001b[0m \u001b[1m0s\u001b[0m 24ms/step - loss: 4.9474\n",
            "Epoch 5: loss improved from 5.18230 to 4.95410, saving model to next_word.keras\n",
            "\u001b[1m1655/1655\u001b[0m \u001b[32m━━━━━━━━━━━━━━━━━━━━\u001b[0m\u001b[37m\u001b[0m \u001b[1m45s\u001b[0m 27ms/step - loss: 4.9474\n",
            "Epoch 6/70\n",
            "\u001b[1m1654/1655\u001b[0m \u001b[32m━━━━━━━━━━━━━━━━━━━\u001b[0m\u001b[37m━\u001b[0m \u001b[1m0s\u001b[0m 24ms/step - loss: 4.7145\n",
            "Epoch 6: loss improved from 4.95410 to 4.72841, saving model to next_word.keras\n",
            "\u001b[1m1655/1655\u001b[0m \u001b[32m━━━━━━━━━━━━━━━━━━━━\u001b[0m\u001b[37m\u001b[0m \u001b[1m78s\u001b[0m 25ms/step - loss: 4.7146\n",
            "Epoch 7/70\n",
            "\u001b[1m1654/1655\u001b[0m \u001b[32m━━━━━━━━━━━━━━━━━━━\u001b[0m\u001b[37m━\u001b[0m \u001b[1m0s\u001b[0m 23ms/step - loss: 4.4879\n",
            "Epoch 7: loss improved from 4.72841 to 4.50216, saving model to next_word.keras\n",
            "\u001b[1m1655/1655\u001b[0m \u001b[32m━━━━━━━━━━━━━━━━━━━━\u001b[0m\u001b[37m\u001b[0m \u001b[1m45s\u001b[0m 27ms/step - loss: 4.4879\n",
            "Epoch 8/70\n",
            "\u001b[1m1655/1655\u001b[0m \u001b[32m━━━━━━━━━━━━━━━━━━━━\u001b[0m\u001b[37m\u001b[0m \u001b[1m0s\u001b[0m 24ms/step - loss: 4.2513\n",
            "Epoch 8: loss improved from 4.50216 to 4.27134, saving model to next_word.keras\n",
            "\u001b[1m1655/1655\u001b[0m \u001b[32m━━━━━━━━━━━━━━━━━━━━\u001b[0m\u001b[37m\u001b[0m \u001b[1m45s\u001b[0m 27ms/step - loss: 4.2513\n",
            "Epoch 9/70\n",
            "\u001b[1m1654/1655\u001b[0m \u001b[32m━━━━━━━━━━━━━━━━━━━\u001b[0m\u001b[37m━\u001b[0m \u001b[1m0s\u001b[0m 24ms/step - loss: 4.0004\n",
            "Epoch 9: loss improved from 4.27134 to 4.03621, saving model to next_word.keras\n",
            "\u001b[1m1655/1655\u001b[0m \u001b[32m━━━━━━━━━━━━━━━━━━━━\u001b[0m\u001b[37m\u001b[0m \u001b[1m82s\u001b[0m 27ms/step - loss: 4.0005\n",
            "Epoch 10/70\n",
            "\u001b[1m1653/1655\u001b[0m \u001b[32m━━━━━━━━━━━━━━━━━━━\u001b[0m\u001b[37m━\u001b[0m \u001b[1m0s\u001b[0m 24ms/step - loss: 3.7509\n",
            "Epoch 10: loss improved from 4.03621 to 3.79495, saving model to next_word.keras\n",
            "\u001b[1m1655/1655\u001b[0m \u001b[32m━━━━━━━━━━━━━━━━━━━━\u001b[0m\u001b[37m\u001b[0m \u001b[1m82s\u001b[0m 27ms/step - loss: 3.7510\n",
            "Epoch 11/70\n",
            "\u001b[1m1653/1655\u001b[0m \u001b[32m━━━━━━━━━━━━━━━━━━━\u001b[0m\u001b[37m━\u001b[0m \u001b[1m0s\u001b[0m 23ms/step - loss: 3.4966\n",
            "Epoch 11: loss improved from 3.79495 to 3.55912, saving model to next_word.keras\n",
            "\u001b[1m1655/1655\u001b[0m \u001b[32m━━━━━━━━━━━━━━━━━━━━\u001b[0m\u001b[37m\u001b[0m \u001b[1m43s\u001b[0m 26ms/step - loss: 3.4968\n",
            "Epoch 12/70\n",
            "\u001b[1m1654/1655\u001b[0m \u001b[32m━━━━━━━━━━━━━━━━━━━\u001b[0m\u001b[37m━\u001b[0m \u001b[1m0s\u001b[0m 24ms/step - loss: 3.2560\n",
            "Epoch 12: loss improved from 3.55912 to 3.32983, saving model to next_word.keras\n",
            "\u001b[1m1655/1655\u001b[0m \u001b[32m━━━━━━━━━━━━━━━━━━━━\u001b[0m\u001b[37m\u001b[0m \u001b[1m80s\u001b[0m 25ms/step - loss: 3.2561\n",
            "Epoch 13/70\n",
            "\u001b[1m1653/1655\u001b[0m \u001b[32m━━━━━━━━━━━━━━━━━━━\u001b[0m\u001b[37m━\u001b[0m \u001b[1m0s\u001b[0m 23ms/step - loss: 3.0397\n",
            "Epoch 13: loss improved from 3.32983 to 3.10454, saving model to next_word.keras\n",
            "\u001b[1m1655/1655\u001b[0m \u001b[32m━━━━━━━━━━━━━━━━━━━━\u001b[0m\u001b[37m\u001b[0m \u001b[1m43s\u001b[0m 26ms/step - loss: 3.0399\n",
            "Epoch 14/70\n",
            "\u001b[1m1654/1655\u001b[0m \u001b[32m━━━━━━━━━━━━━━━━━━━\u001b[0m\u001b[37m━\u001b[0m \u001b[1m0s\u001b[0m 24ms/step - loss: 2.7921\n",
            "Epoch 14: loss improved from 3.10454 to 2.88289, saving model to next_word.keras\n",
            "\u001b[1m1655/1655\u001b[0m \u001b[32m━━━━━━━━━━━━━━━━━━━━\u001b[0m\u001b[37m\u001b[0m \u001b[1m84s\u001b[0m 28ms/step - loss: 2.7922\n",
            "Epoch 15/70\n",
            "\u001b[1m1654/1655\u001b[0m \u001b[32m━━━━━━━━━━━━━━━━━━━\u001b[0m\u001b[37m━\u001b[0m \u001b[1m0s\u001b[0m 23ms/step - loss: 2.5746\n",
            "Epoch 15: loss improved from 2.88289 to 2.65854, saving model to next_word.keras\n",
            "\u001b[1m1655/1655\u001b[0m \u001b[32m━━━━━━━━━━━━━━━━━━━━\u001b[0m\u001b[37m\u001b[0m \u001b[1m80s\u001b[0m 26ms/step - loss: 2.5747\n",
            "Epoch 16/70\n",
            "\u001b[1m1654/1655\u001b[0m \u001b[32m━━━━━━━━━━━━━━━━━━━\u001b[0m\u001b[37m━\u001b[0m \u001b[1m0s\u001b[0m 24ms/step - loss: 2.3498\n",
            "Epoch 16: loss improved from 2.65854 to 2.43306, saving model to next_word.keras\n",
            "\u001b[1m1655/1655\u001b[0m \u001b[32m━━━━━━━━━━━━━━━━━━━━\u001b[0m\u001b[37m\u001b[0m \u001b[1m84s\u001b[0m 28ms/step - loss: 2.3499\n",
            "Epoch 17/70\n",
            "\u001b[1m1655/1655\u001b[0m \u001b[32m━━━━━━━━━━━━━━━━━━━━\u001b[0m\u001b[37m\u001b[0m \u001b[1m0s\u001b[0m 24ms/step - loss: 2.1142\n",
            "Epoch 17: loss improved from 2.43306 to 2.21332, saving model to next_word.keras\n",
            "\u001b[1m1655/1655\u001b[0m \u001b[32m━━━━━━━━━━━━━━━━━━━━\u001b[0m\u001b[37m\u001b[0m \u001b[1m82s\u001b[0m 28ms/step - loss: 2.1143\n",
            "Epoch 18/70\n",
            "\u001b[1m1653/1655\u001b[0m \u001b[32m━━━━━━━━━━━━━━━━━━━\u001b[0m\u001b[37m━\u001b[0m \u001b[1m0s\u001b[0m 24ms/step - loss: 1.8943\n",
            "Epoch 18: loss improved from 2.21332 to 1.99450, saving model to next_word.keras\n",
            "\u001b[1m1655/1655\u001b[0m \u001b[32m━━━━━━━━━━━━━━━━━━━━\u001b[0m\u001b[37m\u001b[0m \u001b[1m82s\u001b[0m 28ms/step - loss: 1.8944\n",
            "Epoch 19/70\n",
            "\u001b[1m1654/1655\u001b[0m \u001b[32m━━━━━━━━━━━━━━━━━━━\u001b[0m\u001b[37m━\u001b[0m \u001b[1m0s\u001b[0m 24ms/step - loss: 1.6916\n",
            "Epoch 19: loss improved from 1.99450 to 1.78894, saving model to next_word.keras\n",
            "\u001b[1m1655/1655\u001b[0m \u001b[32m━━━━━━━━━━━━━━━━━━━━\u001b[0m\u001b[37m\u001b[0m \u001b[1m81s\u001b[0m 27ms/step - loss: 1.6918\n",
            "Epoch 20/70\n",
            "\u001b[1m1653/1655\u001b[0m \u001b[32m━━━━━━━━━━━━━━━━━━━\u001b[0m\u001b[37m━\u001b[0m \u001b[1m0s\u001b[0m 24ms/step - loss: 1.5087\n",
            "Epoch 20: loss improved from 1.78894 to 1.59804, saving model to next_word.keras\n",
            "\u001b[1m1655/1655\u001b[0m \u001b[32m━━━━━━━━━━━━━━━━━━━━\u001b[0m\u001b[37m\u001b[0m \u001b[1m82s\u001b[0m 27ms/step - loss: 1.5088\n",
            "Epoch 21/70\n",
            "\u001b[1m1654/1655\u001b[0m \u001b[32m━━━━━━━━━━━━━━━━━━━\u001b[0m\u001b[37m━\u001b[0m \u001b[1m0s\u001b[0m 24ms/step - loss: 1.3329\n",
            "Epoch 21: loss improved from 1.59804 to 1.42704, saving model to next_word.keras\n",
            "\u001b[1m1655/1655\u001b[0m \u001b[32m━━━━━━━━━━━━━━━━━━━━\u001b[0m\u001b[37m\u001b[0m \u001b[1m82s\u001b[0m 27ms/step - loss: 1.3331\n",
            "Epoch 22/70\n",
            "\u001b[1m1655/1655\u001b[0m \u001b[32m━━━━━━━━━━━━━━━━━━━━\u001b[0m\u001b[37m\u001b[0m \u001b[1m0s\u001b[0m 24ms/step - loss: 1.1791\n",
            "Epoch 22: loss improved from 1.42704 to 1.27535, saving model to next_word.keras\n",
            "\u001b[1m1655/1655\u001b[0m \u001b[32m━━━━━━━━━━━━━━━━━━━━\u001b[0m\u001b[37m\u001b[0m \u001b[1m80s\u001b[0m 26ms/step - loss: 1.1792\n",
            "Epoch 23/70\n",
            "\u001b[1m1654/1655\u001b[0m \u001b[32m━━━━━━━━━━━━━━━━━━━\u001b[0m\u001b[37m━\u001b[0m \u001b[1m0s\u001b[0m 24ms/step - loss: 1.0516\n",
            "Epoch 23: loss improved from 1.27535 to 1.14749, saving model to next_word.keras\n",
            "\u001b[1m1655/1655\u001b[0m \u001b[32m━━━━━━━━━━━━━━━━━━━━\u001b[0m\u001b[37m\u001b[0m \u001b[1m84s\u001b[0m 28ms/step - loss: 1.0517\n",
            "Epoch 24/70\n",
            "\u001b[1m1655/1655\u001b[0m \u001b[32m━━━━━━━━━━━━━━━━━━━━\u001b[0m\u001b[37m\u001b[0m \u001b[1m0s\u001b[0m 24ms/step - loss: 0.9540\n",
            "Epoch 24: loss improved from 1.14749 to 1.04514, saving model to next_word.keras\n",
            "\u001b[1m1655/1655\u001b[0m \u001b[32m━━━━━━━━━━━━━━━━━━━━\u001b[0m\u001b[37m\u001b[0m \u001b[1m82s\u001b[0m 28ms/step - loss: 0.9540\n",
            "Epoch 25/70\n",
            "\u001b[1m1653/1655\u001b[0m \u001b[32m━━━━━━━━━━━━━━━━━━━\u001b[0m\u001b[37m━\u001b[0m \u001b[1m0s\u001b[0m 24ms/step - loss: 0.8624\n",
            "Epoch 25: loss improved from 1.04514 to 0.95618, saving model to next_word.keras\n",
            "\u001b[1m1655/1655\u001b[0m \u001b[32m━━━━━━━━━━━━━━━━━━━━\u001b[0m\u001b[37m\u001b[0m \u001b[1m46s\u001b[0m 27ms/step - loss: 0.8625\n",
            "Epoch 26/70\n",
            "\u001b[1m1653/1655\u001b[0m \u001b[32m━━━━━━━━━━━━━━━━━━━\u001b[0m\u001b[37m━\u001b[0m \u001b[1m0s\u001b[0m 24ms/step - loss: 0.8067\n",
            "Epoch 26: loss improved from 0.95618 to 0.88710, saving model to next_word.keras\n",
            "\u001b[1m1655/1655\u001b[0m \u001b[32m━━━━━━━━━━━━━━━━━━━━\u001b[0m\u001b[37m\u001b[0m \u001b[1m86s\u001b[0m 30ms/step - loss: 0.8069\n",
            "Epoch 27/70\n",
            "\u001b[1m1653/1655\u001b[0m \u001b[32m━━━━━━━━━━━━━━━━━━━\u001b[0m\u001b[37m━\u001b[0m \u001b[1m0s\u001b[0m 24ms/step - loss: 0.7485\n",
            "Epoch 27: loss improved from 0.88710 to 0.82754, saving model to next_word.keras\n",
            "\u001b[1m1655/1655\u001b[0m \u001b[32m━━━━━━━━━━━━━━━━━━━━\u001b[0m\u001b[37m\u001b[0m \u001b[1m77s\u001b[0m 27ms/step - loss: 0.7487\n",
            "Epoch 28/70\n",
            "\u001b[1m1653/1655\u001b[0m \u001b[32m━━━━━━━━━━━━━━━━━━━\u001b[0m\u001b[37m━\u001b[0m \u001b[1m0s\u001b[0m 23ms/step - loss: 0.7069\n",
            "Epoch 28: loss improved from 0.82754 to 0.78311, saving model to next_word.keras\n",
            "\u001b[1m1655/1655\u001b[0m \u001b[32m━━━━━━━━━━━━━━━━━━━━\u001b[0m\u001b[37m\u001b[0m \u001b[1m45s\u001b[0m 27ms/step - loss: 0.7071\n",
            "Epoch 29/70\n",
            "\u001b[1m1653/1655\u001b[0m \u001b[32m━━━━━━━━━━━━━━━━━━━\u001b[0m\u001b[37m━\u001b[0m \u001b[1m0s\u001b[0m 24ms/step - loss: 0.6710\n",
            "Epoch 29: loss improved from 0.78311 to 0.74504, saving model to next_word.keras\n",
            "\u001b[1m1655/1655\u001b[0m \u001b[32m━━━━━━━━━━━━━━━━━━━━\u001b[0m\u001b[37m\u001b[0m \u001b[1m82s\u001b[0m 28ms/step - loss: 0.6711\n",
            "Epoch 30/70\n",
            "\u001b[1m1655/1655\u001b[0m \u001b[32m━━━━━━━━━━━━━━━━━━━━\u001b[0m\u001b[37m\u001b[0m \u001b[1m0s\u001b[0m 24ms/step - loss: 0.6398\n",
            "Epoch 30: loss improved from 0.74504 to 0.70981, saving model to next_word.keras\n",
            "\u001b[1m1655/1655\u001b[0m \u001b[32m━━━━━━━━━━━━━━━━━━━━\u001b[0m\u001b[37m\u001b[0m \u001b[1m82s\u001b[0m 28ms/step - loss: 0.6398\n",
            "Epoch 31/70\n",
            "\u001b[1m1654/1655\u001b[0m \u001b[32m━━━━━━━━━━━━━━━━━━━\u001b[0m\u001b[37m━\u001b[0m \u001b[1m0s\u001b[0m 24ms/step - loss: 0.6115\n",
            "Epoch 31: loss improved from 0.70981 to 0.68270, saving model to next_word.keras\n",
            "\u001b[1m1655/1655\u001b[0m \u001b[32m━━━━━━━━━━━━━━━━━━━━\u001b[0m\u001b[37m\u001b[0m \u001b[1m82s\u001b[0m 28ms/step - loss: 0.6116\n",
            "Epoch 32/70\n",
            "\u001b[1m1653/1655\u001b[0m \u001b[32m━━━━━━━━━━━━━━━━━━━\u001b[0m\u001b[37m━\u001b[0m \u001b[1m0s\u001b[0m 24ms/step - loss: 0.5872\n",
            "Epoch 32: loss improved from 0.68270 to 0.66202, saving model to next_word.keras\n",
            "\u001b[1m1655/1655\u001b[0m \u001b[32m━━━━━━━━━━━━━━━━━━━━\u001b[0m\u001b[37m\u001b[0m \u001b[1m83s\u001b[0m 28ms/step - loss: 0.5873\n",
            "Epoch 33/70\n",
            "\u001b[1m1655/1655\u001b[0m \u001b[32m━━━━━━━━━━━━━━━━━━━━\u001b[0m\u001b[37m\u001b[0m \u001b[1m0s\u001b[0m 24ms/step - loss: 0.5682\n",
            "Epoch 33: loss improved from 0.66202 to 0.63517, saving model to next_word.keras\n",
            "\u001b[1m1655/1655\u001b[0m \u001b[32m━━━━━━━━━━━━━━━━━━━━\u001b[0m\u001b[37m\u001b[0m \u001b[1m46s\u001b[0m 28ms/step - loss: 0.5682\n",
            "Epoch 34/70\n",
            "\u001b[1m1655/1655\u001b[0m \u001b[32m━━━━━━━━━━━━━━━━━━━━\u001b[0m\u001b[37m\u001b[0m \u001b[1m0s\u001b[0m 24ms/step - loss: 0.5549\n",
            "Epoch 34: loss improved from 0.63517 to 0.62008, saving model to next_word.keras\n",
            "\u001b[1m1655/1655\u001b[0m \u001b[32m━━━━━━━━━━━━━━━━━━━━\u001b[0m\u001b[37m\u001b[0m \u001b[1m77s\u001b[0m 25ms/step - loss: 0.5550\n",
            "Epoch 35/70\n",
            "\u001b[1m1653/1655\u001b[0m \u001b[32m━━━━━━━━━━━━━━━━━━━\u001b[0m\u001b[37m━\u001b[0m \u001b[1m0s\u001b[0m 24ms/step - loss: 0.5288\n",
            "Epoch 35: loss improved from 0.62008 to 0.60377, saving model to next_word.keras\n",
            "\u001b[1m1655/1655\u001b[0m \u001b[32m━━━━━━━━━━━━━━━━━━━━\u001b[0m\u001b[37m\u001b[0m \u001b[1m86s\u001b[0m 27ms/step - loss: 0.5289\n",
            "Epoch 36/70\n",
            "\u001b[1m1655/1655\u001b[0m \u001b[32m━━━━━━━━━━━━━━━━━━━━\u001b[0m\u001b[37m\u001b[0m \u001b[1m0s\u001b[0m 24ms/step - loss: 0.5266\n",
            "Epoch 36: loss improved from 0.60377 to 0.58897, saving model to next_word.keras\n",
            "\u001b[1m1655/1655\u001b[0m \u001b[32m━━━━━━━━━━━━━━━━━━━━\u001b[0m\u001b[37m\u001b[0m \u001b[1m83s\u001b[0m 28ms/step - loss: 0.5266\n",
            "Epoch 37/70\n",
            "\u001b[1m1653/1655\u001b[0m \u001b[32m━━━━━━━━━━━━━━━━━━━\u001b[0m\u001b[37m━\u001b[0m \u001b[1m0s\u001b[0m 24ms/step - loss: 0.5163\n",
            "Epoch 37: loss improved from 0.58897 to 0.57550, saving model to next_word.keras\n",
            "\u001b[1m1655/1655\u001b[0m \u001b[32m━━━━━━━━━━━━━━━━━━━━\u001b[0m\u001b[37m\u001b[0m \u001b[1m86s\u001b[0m 30ms/step - loss: 0.5164\n",
            "Epoch 38/70\n",
            "\u001b[1m1654/1655\u001b[0m \u001b[32m━━━━━━━━━━━━━━━━━━━\u001b[0m\u001b[37m━\u001b[0m \u001b[1m0s\u001b[0m 24ms/step - loss: 0.4966\n",
            "Epoch 38: loss improved from 0.57550 to 0.56203, saving model to next_word.keras\n",
            "\u001b[1m1655/1655\u001b[0m \u001b[32m━━━━━━━━━━━━━━━━━━━━\u001b[0m\u001b[37m\u001b[0m \u001b[1m78s\u001b[0m 28ms/step - loss: 0.4967\n",
            "Epoch 39/70\n",
            "\u001b[1m1654/1655\u001b[0m \u001b[32m━━━━━━━━━━━━━━━━━━━\u001b[0m\u001b[37m━\u001b[0m \u001b[1m0s\u001b[0m 24ms/step - loss: 0.4919\n",
            "Epoch 39: loss improved from 0.56203 to 0.55039, saving model to next_word.keras\n",
            "\u001b[1m1655/1655\u001b[0m \u001b[32m━━━━━━━━━━━━━━━━━━━━\u001b[0m\u001b[37m\u001b[0m \u001b[1m82s\u001b[0m 28ms/step - loss: 0.4919\n",
            "Epoch 40/70\n",
            "\u001b[1m1654/1655\u001b[0m \u001b[32m━━━━━━━━━━━━━━━━━━━\u001b[0m\u001b[37m━\u001b[0m \u001b[1m0s\u001b[0m 24ms/step - loss: 0.4820\n",
            "Epoch 40: loss improved from 0.55039 to 0.54019, saving model to next_word.keras\n",
            "\u001b[1m1655/1655\u001b[0m \u001b[32m━━━━━━━━━━━━━━━━━━━━\u001b[0m\u001b[37m\u001b[0m \u001b[1m82s\u001b[0m 28ms/step - loss: 0.4821\n",
            "Epoch 41/70\n",
            "\u001b[1m1655/1655\u001b[0m \u001b[32m━━━━━━━━━━━━━━━━━━━━\u001b[0m\u001b[37m\u001b[0m \u001b[1m0s\u001b[0m 24ms/step - loss: 0.4783\n",
            "Epoch 41: loss improved from 0.54019 to 0.53285, saving model to next_word.keras\n",
            "\u001b[1m1655/1655\u001b[0m \u001b[32m━━━━━━━━━━━━━━━━━━━━\u001b[0m\u001b[37m\u001b[0m \u001b[1m45s\u001b[0m 27ms/step - loss: 0.4783\n",
            "Epoch 42/70\n",
            "\u001b[1m1655/1655\u001b[0m \u001b[32m━━━━━━━━━━━━━━━━━━━━\u001b[0m\u001b[37m\u001b[0m \u001b[1m0s\u001b[0m 24ms/step - loss: 0.4707\n",
            "Epoch 42: loss improved from 0.53285 to 0.52411, saving model to next_word.keras\n",
            "\u001b[1m1655/1655\u001b[0m \u001b[32m━━━━━━━━━━━━━━━━━━━━\u001b[0m\u001b[37m\u001b[0m \u001b[1m82s\u001b[0m 27ms/step - loss: 0.4708\n",
            "Epoch 43/70\n",
            "\u001b[1m1654/1655\u001b[0m \u001b[32m━━━━━━━━━━━━━━━━━━━\u001b[0m\u001b[37m━\u001b[0m \u001b[1m0s\u001b[0m 24ms/step - loss: 0.4643\n",
            "Epoch 43: loss improved from 0.52411 to 0.51871, saving model to next_word.keras\n",
            "\u001b[1m1655/1655\u001b[0m \u001b[32m━━━━━━━━━━━━━━━━━━━━\u001b[0m\u001b[37m\u001b[0m \u001b[1m82s\u001b[0m 27ms/step - loss: 0.4643\n",
            "Epoch 44/70\n",
            "\u001b[1m1653/1655\u001b[0m \u001b[32m━━━━━━━━━━━━━━━━━━━\u001b[0m\u001b[37m━\u001b[0m \u001b[1m0s\u001b[0m 24ms/step - loss: 0.4536\n",
            "Epoch 44: loss improved from 0.51871 to 0.50797, saving model to next_word.keras\n",
            "\u001b[1m1655/1655\u001b[0m \u001b[32m━━━━━━━━━━━━━━━━━━━━\u001b[0m\u001b[37m\u001b[0m \u001b[1m41s\u001b[0m 25ms/step - loss: 0.4537\n",
            "Epoch 45/70\n",
            "\u001b[1m1654/1655\u001b[0m \u001b[32m━━━━━━━━━━━━━━━━━━━\u001b[0m\u001b[37m━\u001b[0m \u001b[1m0s\u001b[0m 24ms/step - loss: 0.4521\n",
            "Epoch 45: loss improved from 0.50797 to 0.50167, saving model to next_word.keras\n",
            "\u001b[1m1655/1655\u001b[0m \u001b[32m━━━━━━━━━━━━━━━━━━━━\u001b[0m\u001b[37m\u001b[0m \u001b[1m41s\u001b[0m 25ms/step - loss: 0.4522\n",
            "Epoch 46/70\n",
            "\u001b[1m1653/1655\u001b[0m \u001b[32m━━━━━━━━━━━━━━━━━━━\u001b[0m\u001b[37m━\u001b[0m \u001b[1m0s\u001b[0m 24ms/step - loss: 0.4497\n",
            "Epoch 46: loss improved from 0.50167 to 0.49612, saving model to next_word.keras\n",
            "\u001b[1m1655/1655\u001b[0m \u001b[32m━━━━━━━━━━━━━━━━━━━━\u001b[0m\u001b[37m\u001b[0m \u001b[1m86s\u001b[0m 27ms/step - loss: 0.4498\n",
            "Epoch 47/70\n",
            "\u001b[1m1653/1655\u001b[0m \u001b[32m━━━━━━━━━━━━━━━━━━━\u001b[0m\u001b[37m━\u001b[0m \u001b[1m0s\u001b[0m 24ms/step - loss: 0.4418\n",
            "Epoch 47: loss improved from 0.49612 to 0.48976, saving model to next_word.keras\n",
            "\u001b[1m1655/1655\u001b[0m \u001b[32m━━━━━━━━━━━━━━━━━━━━\u001b[0m\u001b[37m\u001b[0m \u001b[1m83s\u001b[0m 28ms/step - loss: 0.4419\n",
            "Epoch 48/70\n",
            "\u001b[1m1655/1655\u001b[0m \u001b[32m━━━━━━━━━━━━━━━━━━━━\u001b[0m\u001b[37m\u001b[0m \u001b[1m0s\u001b[0m 24ms/step - loss: 0.4410\n",
            "Epoch 48: loss improved from 0.48976 to 0.48270, saving model to next_word.keras\n",
            "\u001b[1m1655/1655\u001b[0m \u001b[32m━━━━━━━━━━━━━━━━━━━━\u001b[0m\u001b[37m\u001b[0m \u001b[1m77s\u001b[0m 25ms/step - loss: 0.4411\n",
            "Epoch 49/70\n",
            "\u001b[1m1653/1655\u001b[0m \u001b[32m━━━━━━━━━━━━━━━━━━━\u001b[0m\u001b[37m━\u001b[0m \u001b[1m0s\u001b[0m 24ms/step - loss: 0.4277\n",
            "Epoch 49: loss improved from 0.48270 to 0.47430, saving model to next_word.keras\n",
            "\u001b[1m1655/1655\u001b[0m \u001b[32m━━━━━━━━━━━━━━━━━━━━\u001b[0m\u001b[37m\u001b[0m \u001b[1m86s\u001b[0m 28ms/step - loss: 0.4278\n",
            "Epoch 50/70\n",
            "\u001b[1m1655/1655\u001b[0m \u001b[32m━━━━━━━━━━━━━━━━━━━━\u001b[0m\u001b[37m\u001b[0m \u001b[1m0s\u001b[0m 24ms/step - loss: 0.4219\n",
            "Epoch 50: loss improved from 0.47430 to 0.47323, saving model to next_word.keras\n",
            "\u001b[1m1655/1655\u001b[0m \u001b[32m━━━━━━━━━━━━━━━━━━━━\u001b[0m\u001b[37m\u001b[0m \u001b[1m84s\u001b[0m 29ms/step - loss: 0.4219\n",
            "Epoch 51/70\n",
            "\u001b[1m1654/1655\u001b[0m \u001b[32m━━━━━━━━━━━━━━━━━━━\u001b[0m\u001b[37m━\u001b[0m \u001b[1m0s\u001b[0m 24ms/step - loss: 0.4203\n",
            "Epoch 51: loss improved from 0.47323 to 0.46416, saving model to next_word.keras\n",
            "\u001b[1m1655/1655\u001b[0m \u001b[32m━━━━━━━━━━━━━━━━━━━━\u001b[0m\u001b[37m\u001b[0m \u001b[1m45s\u001b[0m 27ms/step - loss: 0.4204\n",
            "Epoch 52/70\n",
            "\u001b[1m1654/1655\u001b[0m \u001b[32m━━━━━━━━━━━━━━━━━━━\u001b[0m\u001b[37m━\u001b[0m \u001b[1m0s\u001b[0m 24ms/step - loss: 0.4150\n",
            "Epoch 52: loss improved from 0.46416 to 0.46242, saving model to next_word.keras\n",
            "\u001b[1m1655/1655\u001b[0m \u001b[32m━━━━━━━━━━━━━━━━━━━━\u001b[0m\u001b[37m\u001b[0m \u001b[1m83s\u001b[0m 28ms/step - loss: 0.4150\n",
            "Epoch 53/70\n",
            "\u001b[1m1653/1655\u001b[0m \u001b[32m━━━━━━━━━━━━━━━━━━━\u001b[0m\u001b[37m━\u001b[0m \u001b[1m0s\u001b[0m 24ms/step - loss: 0.4132\n",
            "Epoch 53: loss improved from 0.46242 to 0.45936, saving model to next_word.keras\n",
            "\u001b[1m1655/1655\u001b[0m \u001b[32m━━━━━━━━━━━━━━━━━━━━\u001b[0m\u001b[37m\u001b[0m \u001b[1m83s\u001b[0m 28ms/step - loss: 0.4132\n",
            "Epoch 54/70\n",
            "\u001b[1m1654/1655\u001b[0m \u001b[32m━━━━━━━━━━━━━━━━━━━\u001b[0m\u001b[37m━\u001b[0m \u001b[1m0s\u001b[0m 24ms/step - loss: 0.4051\n",
            "Epoch 54: loss improved from 0.45936 to 0.45514, saving model to next_word.keras\n",
            "\u001b[1m1655/1655\u001b[0m \u001b[32m━━━━━━━━━━━━━━━━━━━━\u001b[0m\u001b[37m\u001b[0m \u001b[1m82s\u001b[0m 28ms/step - loss: 0.4052\n",
            "Epoch 55/70\n",
            "\u001b[1m1654/1655\u001b[0m \u001b[32m━━━━━━━━━━━━━━━━━━━\u001b[0m\u001b[37m━\u001b[0m \u001b[1m0s\u001b[0m 24ms/step - loss: 0.4014\n",
            "Epoch 55: loss improved from 0.45514 to 0.44786, saving model to next_word.keras\n",
            "\u001b[1m1655/1655\u001b[0m \u001b[32m━━━━━━━━━━━━━━━━━━━━\u001b[0m\u001b[37m\u001b[0m \u001b[1m81s\u001b[0m 28ms/step - loss: 0.4014\n",
            "Epoch 56/70\n",
            "\u001b[1m1654/1655\u001b[0m \u001b[32m━━━━━━━━━━━━━━━━━━━\u001b[0m\u001b[37m━\u001b[0m \u001b[1m0s\u001b[0m 24ms/step - loss: 0.4011\n",
            "Epoch 56: loss improved from 0.44786 to 0.44555, saving model to next_word.keras\n",
            "\u001b[1m1655/1655\u001b[0m \u001b[32m━━━━━━━━━━━━━━━━━━━━\u001b[0m\u001b[37m\u001b[0m \u001b[1m45s\u001b[0m 27ms/step - loss: 0.4012\n",
            "Epoch 57/70\n",
            "\u001b[1m1653/1655\u001b[0m \u001b[32m━━━━━━━━━━━━━━━━━━━\u001b[0m\u001b[37m━\u001b[0m \u001b[1m0s\u001b[0m 24ms/step - loss: 0.3935\n",
            "Epoch 57: loss improved from 0.44555 to 0.43934, saving model to next_word.keras\n",
            "\u001b[1m1655/1655\u001b[0m \u001b[32m━━━━━━━━━━━━━━━━━━━━\u001b[0m\u001b[37m\u001b[0m \u001b[1m83s\u001b[0m 28ms/step - loss: 0.3935\n",
            "Epoch 58/70\n",
            "\u001b[1m1655/1655\u001b[0m \u001b[32m━━━━━━━━━━━━━━━━━━━━\u001b[0m\u001b[37m\u001b[0m \u001b[1m0s\u001b[0m 24ms/step - loss: 0.3932\n",
            "Epoch 58: loss improved from 0.43934 to 0.43787, saving model to next_word.keras\n",
            "\u001b[1m1655/1655\u001b[0m \u001b[32m━━━━━━━━━━━━━━━━━━━━\u001b[0m\u001b[37m\u001b[0m \u001b[1m80s\u001b[0m 27ms/step - loss: 0.3932\n",
            "Epoch 59/70\n",
            "\u001b[1m1653/1655\u001b[0m \u001b[32m━━━━━━━━━━━━━━━━━━━\u001b[0m\u001b[37m━\u001b[0m \u001b[1m0s\u001b[0m 24ms/step - loss: 0.3916\n",
            "Epoch 59: loss improved from 0.43787 to 0.43586, saving model to next_word.keras\n",
            "\u001b[1m1655/1655\u001b[0m \u001b[32m━━━━━━━━━━━━━━━━━━━━\u001b[0m\u001b[37m\u001b[0m \u001b[1m83s\u001b[0m 28ms/step - loss: 0.3917\n",
            "Epoch 60/70\n",
            "\u001b[1m1653/1655\u001b[0m \u001b[32m━━━━━━━━━━━━━━━━━━━\u001b[0m\u001b[37m━\u001b[0m \u001b[1m0s\u001b[0m 24ms/step - loss: 0.3858\n",
            "Epoch 60: loss improved from 0.43586 to 0.43282, saving model to next_word.keras\n",
            "\u001b[1m1655/1655\u001b[0m \u001b[32m━━━━━━━━━━━━━━━━━━━━\u001b[0m\u001b[37m\u001b[0m \u001b[1m82s\u001b[0m 28ms/step - loss: 0.3859\n",
            "Epoch 61/70\n",
            "\u001b[1m1655/1655\u001b[0m \u001b[32m━━━━━━━━━━━━━━━━━━━━\u001b[0m\u001b[37m\u001b[0m \u001b[1m0s\u001b[0m 24ms/step - loss: 0.3914\n",
            "Epoch 61: loss improved from 0.43282 to 0.43062, saving model to next_word.keras\n",
            "\u001b[1m1655/1655\u001b[0m \u001b[32m━━━━━━━━━━━━━━━━━━━━\u001b[0m\u001b[37m\u001b[0m \u001b[1m82s\u001b[0m 28ms/step - loss: 0.3914\n",
            "Epoch 62/70\n",
            "\u001b[1m1159/1655\u001b[0m \u001b[32m━━━━━━━━━━━━━━\u001b[0m\u001b[37m━━━━━━\u001b[0m \u001b[1m11s\u001b[0m 24ms/step - loss: 0.3746"
          ]
        }
      ]
    },
    {
      "cell_type": "code",
      "source": [],
      "metadata": {
        "id": "X-p2DgqjD06Z"
      },
      "execution_count": null,
      "outputs": []
    }
  ]
}